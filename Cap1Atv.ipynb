{
  "nbformat": 4,
  "nbformat_minor": 0,
  "metadata": {
    "colab": {
      "provenance": [],
      "toc_visible": true
    },
    "kernelspec": {
      "name": "python3",
      "display_name": "Python 3"
    },
    "language_info": {
      "name": "python"
    }
  },
  "cells": [
    {
      "cell_type": "markdown",
      "source": [
        "Importação dos Dados"
      ],
      "metadata": {
        "id": "rSihfMwHeuhN"
      }
    },
    {
      "cell_type": "markdown",
      "source": [
        "### Importa as Bibliotecas"
      ],
      "metadata": {
        "id": "Rc7duNZLYDb9"
      }
    },
    {
      "cell_type": "code",
      "source": [
        "import pandas as pd\n",
        "import numpy as np\n",
        "import matplotlib.pyplot as plt\n",
        "from numpy import float64\n",
        "from statsmodels.tsa.stattools import adfuller"
      ],
      "metadata": {
        "id": "lGmd9zGke1tP"
      },
      "execution_count": 2,
      "outputs": []
    },
    {
      "cell_type": "markdown",
      "source": [
        "Realiza carga dos arquivos e tratamento dos campos"
      ],
      "metadata": {
        "id": "dG4HrSg2YGSf"
      }
    },
    {
      "cell_type": "code",
      "source": [
        "# Vendas de 2019\n",
        "vendas_2019 = pd.read_csv('/content/sample_data/vendas_linha_petshop_2019.csv', delimiter=';', encoding='utf-8') \n",
        "vendas_2019['valor'] = vendas_2019['valor'].astype('float64')\n",
        "vendas_2019['quantidade'] = pd.to_numeric(vendas_2019['quantidade'], errors='coerce').astype('Int64')\n",
        "vendas_2019['valor_total_bruto'] = vendas_2019['valor_total_bruto'].astype('float64')\n",
        "vendas_2019['data'] = pd.to_datetime(vendas_2019['data'])\n",
        "vendas_2019['valor_comissao'] = vendas_2019['valor_comissao'].str.replace(',', '.').astype('float64')\n",
        "vendas_2019['lucro_liquido'] = vendas_2019['lucro_liquido'].str.replace(',', '.').astype('float64')\n",
        "print(vendas_2019.head())"
      ],
      "metadata": {
        "colab": {
          "base_uri": "https://localhost:8080/",
          "height": 0
        },
        "id": "uRCdE7GRfwgI",
        "outputId": "af1406df-9c40-4d6a-d61f-1778d12002cd"
      },
      "execution_count": 4,
      "outputs": [
        {
          "output_type": "stream",
          "name": "stdout",
          "text": [
            "   cod_pedido regiao_pais                       produto  valor  quantidade  \\\n",
            "0           1       Norte  Biscoito  True Champion 300g   22.0           2   \n",
            "1           2       Norte  Biscoito  True Champion 300g   21.0           2   \n",
            "2           3       Norte  Biscoito  True Champion 300g   22.0        <NA>   \n",
            "3           4       Norte  Biscoito  True Champion 300g   19.0           4   \n",
            "4           5       Norte  Biscoito  True Champion 300g   22.0           2   \n",
            "\n",
            "   valor_total_bruto       data     estado       formapagto  \\\n",
            "0               44.0 2019-06-13       Acre         Dinheiro   \n",
            "1               42.0 2019-03-01      Amapá              Pix   \n",
            "2               44.0 2019-01-18       Pará  Boleto Bancário   \n",
            "3               88.0 2019-08-19   Rondônia  Boleto Bancário   \n",
            "4               44.0 2019-10-18  Tocantins   Cartão Crédito   \n",
            "\n",
            "  centro_distribuicao responsavelpedido  valor_comissao  lucro_liquido  \\\n",
            "0          Rapid Pink            Carlos            0.44           17.6   \n",
            "1          Rapid Pink       Maria Linda            0.42           16.8   \n",
            "2          Rapid Pink             Julia            0.88           35.2   \n",
            "3          Rapid Pink              Yuri            0.76           30.4   \n",
            "4          Rapid Pink           Dolores            0.44           17.6   \n",
            "\n",
            "  categoriaprod  \n",
            "0   Alimentação  \n",
            "1   Alimentação  \n",
            "2   Alimentação  \n",
            "3   Alimentação  \n",
            "4   Alimentação  \n"
          ]
        },
        {
          "output_type": "stream",
          "name": "stderr",
          "text": [
            "<ipython-input-4-418ff2560411>:5: UserWarning: Parsing dates in DD/MM/YYYY format when dayfirst=False (the default) was specified. This may lead to inconsistently parsed dates! Specify a format to ensure consistent parsing.\n",
            "  vendas_2019['data'] = pd.to_datetime(vendas_2019['data'])\n"
          ]
        }
      ]
    },
    {
      "cell_type": "code",
      "source": [
        "# Vendas de 2020\n",
        "vendas_2020 = pd.read_csv('/content/sample_data/vendas_linha_petshop_2020.csv', delimiter = ';' , encoding = 'iso-8859-1')\n",
        "vendas_2020['valor'] = vendas_2020['valor'].str.replace(',', '.').astype('float64')\n",
        "vendas_2020['quantidade'] = pd.to_numeric(vendas_2020['quantidade'], errors='coerce').astype('Int64')\n",
        "vendas_2020['valor_total_bruto'] = vendas_2020['valor_total_bruto'].str.replace(',', '.').astype('float64')\n",
        "vendas_2020['data'] = pd.to_datetime(vendas_2020['data'])\n",
        "vendas_2020['valor_comissao'] = vendas_2020['valor_comissao'].str.replace(',', '.').astype('float64')\n",
        "vendas_2020['lucro_liquido'] = vendas_2020['lucro_liquido'].str.replace(',', '.').astype('float64')\n",
        "print(vendas_2020.head())"
      ],
      "metadata": {
        "colab": {
          "base_uri": "https://localhost:8080/",
          "height": 0
        },
        "id": "KirfL1nWmYwt",
        "outputId": "a054e7ee-6606-46ea-c131-33c85b02e586"
      },
      "execution_count": 5,
      "outputs": [
        {
          "output_type": "stream",
          "name": "stdout",
          "text": [
            "   cod_pedido regiao_pais                       produto  valor  quantidade  \\\n",
            "0       50284       Norte  Biscoito  True Champion 300g  24.64           2   \n",
            "1       50285       Norte  Biscoito  True Champion 300g  23.52           2   \n",
            "2       50286       Norte  Biscoito  True Champion 300g  24.64           4   \n",
            "3       50287       Norte  Biscoito  True Champion 300g  21.28           4   \n",
            "4       50288       Norte  Biscoito  True Champion 300g  24.64        <NA>   \n",
            "\n",
            "   valor_total_bruto       data     estado      formapagto  \\\n",
            "0              49.28 2020-12-03       Acre  Cartão Crédito   \n",
            "1              47.04 2020-10-04      Amapá  Cartão Crédito   \n",
            "2              98.56 2020-07-08       Pará        Dinheiro   \n",
            "3              85.12 2020-10-01   Rondônia             Pix   \n",
            "4              49.28 2020-11-04  Tocantins  Cartão Crédito   \n",
            "\n",
            "  centro_distribuicao responsavelpedido  valor_comissao  lucro_liquido  \\\n",
            "0          Rapid Pink            Carlos            1.76           26.4   \n",
            "1          Rapid Pink       Maria Linda            1.68           25.2   \n",
            "2          Rapid Pink             Julia            3.52           52.8   \n",
            "3          Rapid Pink              Yuri            3.04           45.6   \n",
            "4          Rapid Pink           Dolores            1.76           26.4   \n",
            "\n",
            "  categoriaprod  \n",
            "0   Alimentação  \n",
            "1   Alimentação  \n",
            "2   Alimentação  \n",
            "3   Alimentação  \n",
            "4   Alimentação  \n"
          ]
        },
        {
          "output_type": "stream",
          "name": "stderr",
          "text": [
            "<ipython-input-5-f9bc178b17d9>:6: UserWarning: Parsing dates in DD/MM/YYYY format when dayfirst=False (the default) was specified. This may lead to inconsistently parsed dates! Specify a format to ensure consistent parsing.\n",
            "  vendas_2020['data'] = pd.to_datetime(vendas_2020['data'])\n"
          ]
        }
      ]
    },
    {
      "cell_type": "code",
      "source": [
        "# Vendas de 2021\n",
        "vendas_2021 = pd.read_csv('/content/sample_data/vendas_linha_petshop_2021.csv', delimiter = ';' , encoding = 'iso-8859-1')\n",
        "vendas_2021['valor'] = vendas_2021['valor'].str.replace(',', '.').astype('float64')\n",
        "vendas_2021['quantidade'] = pd.to_numeric(vendas_2021['quantidade'], errors='coerce').astype('Int64')\n",
        "vendas_2021['valor_total_bruto'] = vendas_2021['valor_total_bruto'].str.replace(',', '.').astype('float64')\n",
        "vendas_2021['data'] = pd.to_datetime(vendas_2021['data'])\n",
        "vendas_2021['valor_comissao'] = vendas_2021['valor_comissao'].str.replace(',', '.').astype('float64')\n",
        "vendas_2021['lucro_liquido'] = vendas_2021['lucro_liquido'].str.replace(',', '.').astype('float64')\n",
        "print(vendas_2021.head())"
      ],
      "metadata": {
        "colab": {
          "base_uri": "https://localhost:8080/",
          "height": 0
        },
        "id": "wfYlIlM5nKWa",
        "outputId": "ef6bf638-81cf-4d93-e6ba-dfe2ce917010"
      },
      "execution_count": 6,
      "outputs": [
        {
          "output_type": "stream",
          "name": "stdout",
          "text": [
            "   cod_pedido regiao_pais                                            produto  \\\n",
            "0      100567    Nordeste  Nutri Alimentador Inteligente Automático Câmer...   \n",
            "1      100568    Nordeste  Nutri Alimentador Inteligente Automático Câmer...   \n",
            "2      100569    Nordeste  Nutri Alimentador Inteligente Automático Câmer...   \n",
            "3      100570    Nordeste  Nutri Alimentador Inteligente Automático Câmer...   \n",
            "4      100571     Sudeste  Nutri Alimentador Inteligente Automático Câmer...   \n",
            "\n",
            "     valor  quantidade  valor_total_bruto       data      estado  \\\n",
            "0  1020.11           1            1020.11 2021-02-11       Ceará   \n",
            "1  1135.82           1            1135.82 2021-12-19    Maranhão   \n",
            "2  1054.69           1            1054.69 2021-09-16     Paraíba   \n",
            "3  1167.74           1            1167.74 2021-01-18  Pernambuco   \n",
            "4  1173.06           1            1173.06 2021-11-27       Piauí   \n",
            "\n",
            "        formapagto centro_distribuicao responsavelpedido  valor_comissao  \\\n",
            "0   Cartão Crédito          Gold Beach             Neide           53.69   \n",
            "1   Cartão Crédito          Gold Beach           Clarice           59.78   \n",
            "2  Boleto Bancário          Gold Beach          Cristina           55.51   \n",
            "3              Pix          Gold Beach           Claudio           61.46   \n",
            "4         Dinheiro          Gold Beach          Cristian           61.74   \n",
            "\n",
            "   lucro_liquido            categoriaprod  \n",
            "0          230.1  Bebedouros e Comedouros  \n",
            "1          256.2  Bebedouros e Comedouros  \n",
            "2          237.9  Bebedouros e Comedouros  \n",
            "3          263.4  Bebedouros e Comedouros  \n",
            "4          264.6  Bebedouros e Comedouros  \n"
          ]
        },
        {
          "output_type": "stream",
          "name": "stderr",
          "text": [
            "<ipython-input-6-ce83b2aa8893>:6: UserWarning: Parsing dates in DD/MM/YYYY format when dayfirst=False (the default) was specified. This may lead to inconsistently parsed dates! Specify a format to ensure consistent parsing.\n",
            "  vendas_2021['data'] = pd.to_datetime(vendas_2021['data'])\n"
          ]
        }
      ]
    },
    {
      "cell_type": "code",
      "source": [
        "# Vendas de 2022\n",
        "vendas_2022 = pd.read_excel('/content/sample_data/vendas_linha_petshop_2022.xlsx')\n",
        "vendas_2022 = vendas_2022.rename(columns={'Código Do Pedido': 'cod_pedido', \n",
        "                                          'Região País': 'regiao_pais',\n",
        "                                          'Produto': 'produto',\n",
        "                                          'Valor': 'valor',\n",
        "                                          'Quantidade': 'quantidade',\n",
        "                                          'Valor Total Bruto': 'valor_total_bruto',\n",
        "                                          'Data': 'data',\n",
        "                                          'Estado': 'estado',\n",
        "                                          'FormaPagto': 'formapagto',\n",
        "                                           'Centro Distribuição': 'centro_distribuicao',\n",
        "                                          'ResponsavelPedido': 'responsavelpedido',\n",
        "                                          'Valor Comissao': 'valor_comissao',\n",
        "                                          'Lucro Liquido': 'lucro_liquido',\n",
        "                                          'CategoriaProd': 'categoriaprod'                                         \n",
        "                                          })\n",
        "vendas_2022['valor'] = pd.to_numeric(vendas_2022['valor'], errors='coerce').astype('float64')\n",
        "vendas_2022['valor_total_bruto'] = pd.to_numeric(vendas_2022['valor_total_bruto'], errors='coerce').astype('float64')\n",
        "print(vendas_2022.head())"
      ],
      "metadata": {
        "colab": {
          "base_uri": "https://localhost:8080/",
          "height": 0
        },
        "id": "0nOFpF4FnmWz",
        "outputId": "e9ed81fc-4ef2-4abe-ab2f-c47e27613116"
      },
      "execution_count": 7,
      "outputs": [
        {
          "output_type": "stream",
          "name": "stdout",
          "text": [
            "   cod_pedido regiao_pais                       produto   valor  quantidade  \\\n",
            "0      150581       Norte  Biscoito  True Champion 300g    22.0           1   \n",
            "1      150582       Norte  Biscoito  True Champion 300g    21.0           2   \n",
            "2      150583       Norte  Biscoito  True Champion 300g    22.0           3   \n",
            "3      150584       Norte  Biscoito  True Champion 300g    19.0           2   \n",
            "4      150585       Norte  Biscoito  True Champion 300g  2500.0           3   \n",
            "\n",
            "   valor_total_bruto       data          estado      formapagto  \\\n",
            "0               22.0 2022-07-23           Piauí   Cartão Débito   \n",
            "1               42.0 2022-09-06       São Paulo        Dinheiro   \n",
            "2               66.0 2022-12-05    Minas Gerais        Dinheiro   \n",
            "3               38.0 2022-03-28  Rio de Janeiro  Cartão Crédito   \n",
            "4            15000.0 2022-08-06  Espírito Santo        Dinheiro   \n",
            "\n",
            "  centro_distribuicao responsavelpedido  valor_comissao  lucro_liquido  \\\n",
            "0          Rapid Pink            Carlos            0.44            8.8   \n",
            "1          Rapid Pink       Maria Linda            0.84           16.8   \n",
            "2          Rapid Pink             Julia            1.32           26.4   \n",
            "3          Rapid Pink              Yuri            0.76           15.2   \n",
            "4          Rapid Pink           Dolores          300.00         6000.0   \n",
            "\n",
            "  categoriaprod  \n",
            "0   Alimentação  \n",
            "1   Alimentação  \n",
            "2   Alimentação  \n",
            "3   Alimentação  \n",
            "4   Alimentação  \n"
          ]
        }
      ]
    },
    {
      "cell_type": "code",
      "source": [
        "# Tratamento de registro nulo, encontrado apenas um caso\n",
        "vendas_2022['valor'] = vendas_2022['valor'].fillna(62.5) "
      ],
      "metadata": {
        "id": "50eaKqtJdA1X"
      },
      "execution_count": 8,
      "outputs": []
    },
    {
      "cell_type": "code",
      "source": [
        "# Vendas de 2023\n",
        "vendas_2023 = pd.read_excel('/content/sample_data/vendas_linha_petshop_2023.xlsx')\n",
        "vendas_2023 = vendas_2023.rename(columns={'Código Do Pedido': 'cod_pedido', \n",
        "                                          'Região País': 'regiao_pais',\n",
        "                                          'Produto': 'produto',\n",
        "                                          'Valor': 'valor',\n",
        "                                          'Quantidade': 'quantidade',\n",
        "                                          'Valor Total Bruto': 'valor_total_bruto',\n",
        "                                          'Data': 'data',\n",
        "                                          'Estado': 'estado',\n",
        "                                          'FormaPagto': 'formapagto',\n",
        "                                           'Centro Distribuição': 'centro_distribuicao',\n",
        "                                          'ResponsavelPedido': 'responsavelpedido',\n",
        "                                          'Valor Comissao': 'valor_comissao',\n",
        "                                          'Lucro Liquido': 'lucro_liquido',\n",
        "                                          'CategoriaProd': 'categoriaprod'                                         \n",
        "                                          })\n",
        "vendas_2023['valor'] = pd.to_numeric(vendas_2023['valor'], errors='coerce').astype('float64')\n",
        "vendas_2023['quantidade'] = pd.to_numeric(vendas_2023['quantidade'], errors='coerce').astype('Int64')\n",
        "vendas_2023['valor_total_bruto'] = pd.to_numeric(vendas_2023['valor_total_bruto'], errors='coerce').astype('float64')\n",
        "print(vendas_2023.head())"
      ],
      "metadata": {
        "colab": {
          "base_uri": "https://localhost:8080/",
          "height": 0
        },
        "id": "9Tdf8qMIudB1",
        "outputId": "f3dc2113-f956-4884-a3c9-f27bc34453c1"
      },
      "execution_count": 9,
      "outputs": [
        {
          "output_type": "stream",
          "name": "stdout",
          "text": [
            "   cod_pedido regiao_pais                       produto  valor  quantidade  \\\n",
            "0      200981       Norte  Biscoito  True Champion 300g   22.0           3   \n",
            "1      200982       Norte  Biscoito  True Champion 300g   21.0           1   \n",
            "2      200983       Norte  Biscoito  True Champion 300g   22.0           2   \n",
            "3      200984       Norte  Biscoito  True Champion 300g    0.0           5   \n",
            "4      200985       Norte  Biscoito  True Champion 300g   22.0           1   \n",
            "\n",
            "   valor_total_bruto       data          estado       formapagto  \\\n",
            "0               66.0 2023-02-17           Piauí   Cartão Crédito   \n",
            "1               21.0 2023-03-13       São Paulo  Boleto Bancário   \n",
            "2               44.0 2023-01-24    Minas Gerais         Dinheiro   \n",
            "3              -22.0 2023-01-23  Rio de Janeiro  Boleto Bancário   \n",
            "4               22.0 2023-01-19  Espírito Santo         Dinheiro   \n",
            "\n",
            "  centro_distribuicao responsavelpedido  valor_comissao  lucro_liquido  \\\n",
            "0          Rapid Pink            Carlos            1.32           26.4   \n",
            "1          Rapid Pink       Maria Linda            0.42            8.4   \n",
            "2          Rapid Pink             Julia            0.88           17.6   \n",
            "3          Rapid Pink              Yuri           -0.44           -8.8   \n",
            "4          Rapid Pink           Dolores            0.44            8.8   \n",
            "\n",
            "  categoriaprod  \n",
            "0   Alimentação  \n",
            "1   Alimentação  \n",
            "2   Alimentação  \n",
            "3   Alimentação  \n",
            "4   Alimentação  \n"
          ]
        }
      ]
    },
    {
      "cell_type": "code",
      "source": [
        "# Realiza a união de todos dataframes\n",
        "vendas_total = pd.concat([vendas_2019, vendas_2020, vendas_2021, vendas_2022, vendas_2023], ignore_index=True)\n",
        "print(vendas_total.count())\n",
        "print(vendas_total.dtypes)"
      ],
      "metadata": {
        "colab": {
          "base_uri": "https://localhost:8080/",
          "height": 0
        },
        "id": "uQcjIlRnwSEf",
        "outputId": "5605c895-b6ad-4085-c377-7c3ef74dcbd0"
      },
      "execution_count": 15,
      "outputs": [
        {
          "output_type": "stream",
          "name": "stdout",
          "text": [
            "cod_pedido             250060\n",
            "regiao_pais            250060\n",
            "produto                250060\n",
            "valor                  250060\n",
            "quantidade             249561\n",
            "valor_total_bruto      250039\n",
            "data                   250060\n",
            "estado                 250060\n",
            "formapagto             250060\n",
            "centro_distribuicao    250060\n",
            "responsavelpedido      250060\n",
            "valor_comissao         250040\n",
            "lucro_liquido          250040\n",
            "categoriaprod          250060\n",
            "dtype: int64\n",
            "cod_pedido                      int64\n",
            "regiao_pais                    object\n",
            "produto                        object\n",
            "valor                         float64\n",
            "quantidade                      Int64\n",
            "valor_total_bruto             float64\n",
            "data                   datetime64[ns]\n",
            "estado                         object\n",
            "formapagto                     object\n",
            "centro_distribuicao            object\n",
            "responsavelpedido              object\n",
            "valor_comissao                float64\n",
            "lucro_liquido                 float64\n",
            "categoriaprod                  object\n",
            "dtype: object\n"
          ]
        }
      ]
    },
    {
      "cell_type": "code",
      "source": [
        "# Verifica dataframe completo\n",
        "print(vendas_total.head(5))"
      ],
      "metadata": {
        "colab": {
          "base_uri": "https://localhost:8080/",
          "height": 0
        },
        "id": "abi45ZCKwHf2",
        "outputId": "490754c3-c262-4f51-eed8-e50f3aadb6ce"
      },
      "execution_count": 16,
      "outputs": [
        {
          "output_type": "stream",
          "name": "stdout",
          "text": [
            "   cod_pedido regiao_pais                       produto  valor  quantidade  \\\n",
            "0           1       Norte  Biscoito  True Champion 300g   22.0           2   \n",
            "1           2       Norte  Biscoito  True Champion 300g   21.0           2   \n",
            "2           3       Norte  Biscoito  True Champion 300g   22.0        <NA>   \n",
            "3           4       Norte  Biscoito  True Champion 300g   19.0           4   \n",
            "4           5       Norte  Biscoito  True Champion 300g   22.0           2   \n",
            "\n",
            "   valor_total_bruto       data     estado       formapagto  \\\n",
            "0               44.0 2019-06-13       Acre         Dinheiro   \n",
            "1               42.0 2019-03-01      Amapá              Pix   \n",
            "2               44.0 2019-01-18       Pará  Boleto Bancário   \n",
            "3               88.0 2019-08-19   Rondônia  Boleto Bancário   \n",
            "4               44.0 2019-10-18  Tocantins   Cartão Crédito   \n",
            "\n",
            "  centro_distribuicao responsavelpedido  valor_comissao  lucro_liquido  \\\n",
            "0          Rapid Pink            Carlos            0.44           17.6   \n",
            "1          Rapid Pink       Maria Linda            0.42           16.8   \n",
            "2          Rapid Pink             Julia            0.88           35.2   \n",
            "3          Rapid Pink              Yuri            0.76           30.4   \n",
            "4          Rapid Pink           Dolores            0.44           17.6   \n",
            "\n",
            "  categoriaprod  \n",
            "0   Alimentação  \n",
            "1   Alimentação  \n",
            "2   Alimentação  \n",
            "3   Alimentação  \n",
            "4   Alimentação  \n"
          ]
        }
      ]
    },
    {
      "cell_type": "markdown",
      "source": [
        "1)    Em relação aos dados disponibilizados, existem dados missing? Descreva o que foi encontrado?  Em situações como essa, o que é necessário ser feito?\n",
        "\n",
        "R: Encontramos dados missing em 5 colunas: **quantidade, valor_total_bruto, valor_comissao e lucro_liquido**, existia apenas um registro no campo valor, mas corrigimos anteriormente com o cálculo \"valor_total_bruto/quantidade\".\n",
        "\n",
        "Aqui optamos por dois tratamentos, a coluna quantidade tinha 499 registros nulos, assim **decidimos recuperar 478 registros através do cálculo \"valor_total_bruto/valor\"**. Ao fazermos isso restaram **21 registros nulos na coluna valor_total_bruto e 20 nas outras três colunas quantidade, valor_comissao e lucro_liquido, neste caso optamos pela exclusão destas linhas, pois sem estas informações os registros se tornam irrelevantes.**\n"
      ],
      "metadata": {
        "id": "AGb2ipvNZj28"
      }
    },
    {
      "cell_type": "code",
      "source": [
        "# Verifica dados missing\n",
        "print(vendas_total.isna().sum())"
      ],
      "metadata": {
        "colab": {
          "base_uri": "https://localhost:8080/",
          "height": 0
        },
        "id": "_NpmLJ5sH0Rb",
        "outputId": "412d6f8f-ee28-46ea-d1ba-a89b6542d4c2"
      },
      "execution_count": 17,
      "outputs": [
        {
          "output_type": "stream",
          "name": "stdout",
          "text": [
            "cod_pedido               0\n",
            "regiao_pais              0\n",
            "produto                  0\n",
            "valor                    0\n",
            "quantidade             499\n",
            "valor_total_bruto       21\n",
            "data                     0\n",
            "estado                   0\n",
            "formapagto               0\n",
            "centro_distribuicao      0\n",
            "responsavelpedido        0\n",
            "valor_comissao          20\n",
            "lucro_liquido           20\n",
            "categoriaprod            0\n",
            "dtype: int64\n"
          ]
        }
      ]
    },
    {
      "cell_type": "code",
      "source": [
        "# Realiza tratamento para corrigirmos a coluna quantidade\n",
        "vendas_total['quantidade']\\\n",
        "  .loc[(vendas_total['quantidade'].isna()) \\\n",
        "      & (vendas_total['valor'].notnull()) \\\n",
        "      & (vendas_total['valor_total_bruto'].notnull())] = \\\n",
        "  (vendas_total['valor_total_bruto']/vendas_total['valor']).round(0)\\\n",
        "      .loc[(vendas_total['quantidade'].isna()) \\\n",
        "          & (vendas_total['valor'].notnull()) \\\n",
        "          & (vendas_total['valor_total_bruto'].notnull())] "
      ],
      "metadata": {
        "id": "niPinlCBZQE2"
      },
      "execution_count": 18,
      "outputs": []
    },
    {
      "cell_type": "code",
      "source": [
        "# Verifica os dados missing após correção do campo de quantidade\n",
        "print(vendas_total.isna().sum())"
      ],
      "metadata": {
        "colab": {
          "base_uri": "https://localhost:8080/",
          "height": 0
        },
        "id": "D-Qj_0ljQ08Q",
        "outputId": "cf2f1faf-2640-40b0-ca90-707768b00681"
      },
      "execution_count": 19,
      "outputs": [
        {
          "output_type": "stream",
          "name": "stdout",
          "text": [
            "cod_pedido              0\n",
            "regiao_pais             0\n",
            "produto                 0\n",
            "valor                   0\n",
            "quantidade             20\n",
            "valor_total_bruto      21\n",
            "data                    0\n",
            "estado                  0\n",
            "formapagto              0\n",
            "centro_distribuicao     0\n",
            "responsavelpedido       0\n",
            "valor_comissao         20\n",
            "lucro_liquido          20\n",
            "categoriaprod           0\n",
            "dtype: int64\n"
          ]
        }
      ]
    },
    {
      "cell_type": "code",
      "source": [
        "# Analisa as colunas que contém dados missing\n",
        "vendas_total[['valor', 'quantidade', 'valor_total_bruto', 'valor_comissao', 'lucro_liquido']] \\\n",
        ".loc[ (vendas_total['quantidade'].isna()) | (vendas_total['valor_total_bruto'].isna())]"
      ],
      "metadata": {
        "colab": {
          "base_uri": "https://localhost:8080/",
          "height": 708
        },
        "id": "65pzVuLVWr_V",
        "outputId": "978d9efe-af85-40a8-a748-4b7d10f76e5d"
      },
      "execution_count": 20,
      "outputs": [
        {
          "output_type": "execute_result",
          "data": {
            "text/plain": [
              "        valor  quantidade  valor_total_bruto  valor_comissao  lucro_liquido\n",
              "206319   46.0        <NA>                NaN             NaN            NaN\n",
              "206432   29.0        <NA>                NaN             NaN            NaN\n",
              "206572  102.0        <NA>                NaN             NaN            NaN\n",
              "206707   96.0        <NA>                NaN             NaN            NaN\n",
              "206841   16.0        <NA>                NaN             NaN            NaN\n",
              "206976  279.0        <NA>                NaN             NaN            NaN\n",
              "207084   43.0        <NA>                NaN             NaN            NaN\n",
              "207192   32.0        <NA>                NaN             NaN            NaN\n",
              "207300   32.0        <NA>                NaN             NaN            NaN\n",
              "207407   54.0        <NA>                NaN             NaN            NaN\n",
              "207542   58.0        <NA>                NaN             NaN            NaN\n",
              "207677   66.0        <NA>                NaN             NaN            NaN\n",
              "207812   31.0        <NA>                NaN             NaN            NaN\n",
              "207920   97.0        <NA>                NaN             NaN            NaN\n",
              "208054   12.0        <NA>                NaN             NaN            NaN\n",
              "208162  269.0        <NA>                NaN             NaN            NaN\n",
              "208270   62.0        <NA>                NaN             NaN            NaN\n",
              "208378   28.0        <NA>                NaN             NaN            NaN\n",
              "208486   31.0        <NA>                NaN             NaN            NaN\n",
              "208567   20.0        <NA>                NaN             NaN            NaN\n",
              "210883   33.0           2                NaN            -3.6          -36.0"
            ],
            "text/html": [
              "\n",
              "  <div id=\"df-b41c3dcf-71a2-481d-8fb2-8a32a5d84cbb\">\n",
              "    <div class=\"colab-df-container\">\n",
              "      <div>\n",
              "<style scoped>\n",
              "    .dataframe tbody tr th:only-of-type {\n",
              "        vertical-align: middle;\n",
              "    }\n",
              "\n",
              "    .dataframe tbody tr th {\n",
              "        vertical-align: top;\n",
              "    }\n",
              "\n",
              "    .dataframe thead th {\n",
              "        text-align: right;\n",
              "    }\n",
              "</style>\n",
              "<table border=\"1\" class=\"dataframe\">\n",
              "  <thead>\n",
              "    <tr style=\"text-align: right;\">\n",
              "      <th></th>\n",
              "      <th>valor</th>\n",
              "      <th>quantidade</th>\n",
              "      <th>valor_total_bruto</th>\n",
              "      <th>valor_comissao</th>\n",
              "      <th>lucro_liquido</th>\n",
              "    </tr>\n",
              "  </thead>\n",
              "  <tbody>\n",
              "    <tr>\n",
              "      <th>206319</th>\n",
              "      <td>46.0</td>\n",
              "      <td>&lt;NA&gt;</td>\n",
              "      <td>NaN</td>\n",
              "      <td>NaN</td>\n",
              "      <td>NaN</td>\n",
              "    </tr>\n",
              "    <tr>\n",
              "      <th>206432</th>\n",
              "      <td>29.0</td>\n",
              "      <td>&lt;NA&gt;</td>\n",
              "      <td>NaN</td>\n",
              "      <td>NaN</td>\n",
              "      <td>NaN</td>\n",
              "    </tr>\n",
              "    <tr>\n",
              "      <th>206572</th>\n",
              "      <td>102.0</td>\n",
              "      <td>&lt;NA&gt;</td>\n",
              "      <td>NaN</td>\n",
              "      <td>NaN</td>\n",
              "      <td>NaN</td>\n",
              "    </tr>\n",
              "    <tr>\n",
              "      <th>206707</th>\n",
              "      <td>96.0</td>\n",
              "      <td>&lt;NA&gt;</td>\n",
              "      <td>NaN</td>\n",
              "      <td>NaN</td>\n",
              "      <td>NaN</td>\n",
              "    </tr>\n",
              "    <tr>\n",
              "      <th>206841</th>\n",
              "      <td>16.0</td>\n",
              "      <td>&lt;NA&gt;</td>\n",
              "      <td>NaN</td>\n",
              "      <td>NaN</td>\n",
              "      <td>NaN</td>\n",
              "    </tr>\n",
              "    <tr>\n",
              "      <th>206976</th>\n",
              "      <td>279.0</td>\n",
              "      <td>&lt;NA&gt;</td>\n",
              "      <td>NaN</td>\n",
              "      <td>NaN</td>\n",
              "      <td>NaN</td>\n",
              "    </tr>\n",
              "    <tr>\n",
              "      <th>207084</th>\n",
              "      <td>43.0</td>\n",
              "      <td>&lt;NA&gt;</td>\n",
              "      <td>NaN</td>\n",
              "      <td>NaN</td>\n",
              "      <td>NaN</td>\n",
              "    </tr>\n",
              "    <tr>\n",
              "      <th>207192</th>\n",
              "      <td>32.0</td>\n",
              "      <td>&lt;NA&gt;</td>\n",
              "      <td>NaN</td>\n",
              "      <td>NaN</td>\n",
              "      <td>NaN</td>\n",
              "    </tr>\n",
              "    <tr>\n",
              "      <th>207300</th>\n",
              "      <td>32.0</td>\n",
              "      <td>&lt;NA&gt;</td>\n",
              "      <td>NaN</td>\n",
              "      <td>NaN</td>\n",
              "      <td>NaN</td>\n",
              "    </tr>\n",
              "    <tr>\n",
              "      <th>207407</th>\n",
              "      <td>54.0</td>\n",
              "      <td>&lt;NA&gt;</td>\n",
              "      <td>NaN</td>\n",
              "      <td>NaN</td>\n",
              "      <td>NaN</td>\n",
              "    </tr>\n",
              "    <tr>\n",
              "      <th>207542</th>\n",
              "      <td>58.0</td>\n",
              "      <td>&lt;NA&gt;</td>\n",
              "      <td>NaN</td>\n",
              "      <td>NaN</td>\n",
              "      <td>NaN</td>\n",
              "    </tr>\n",
              "    <tr>\n",
              "      <th>207677</th>\n",
              "      <td>66.0</td>\n",
              "      <td>&lt;NA&gt;</td>\n",
              "      <td>NaN</td>\n",
              "      <td>NaN</td>\n",
              "      <td>NaN</td>\n",
              "    </tr>\n",
              "    <tr>\n",
              "      <th>207812</th>\n",
              "      <td>31.0</td>\n",
              "      <td>&lt;NA&gt;</td>\n",
              "      <td>NaN</td>\n",
              "      <td>NaN</td>\n",
              "      <td>NaN</td>\n",
              "    </tr>\n",
              "    <tr>\n",
              "      <th>207920</th>\n",
              "      <td>97.0</td>\n",
              "      <td>&lt;NA&gt;</td>\n",
              "      <td>NaN</td>\n",
              "      <td>NaN</td>\n",
              "      <td>NaN</td>\n",
              "    </tr>\n",
              "    <tr>\n",
              "      <th>208054</th>\n",
              "      <td>12.0</td>\n",
              "      <td>&lt;NA&gt;</td>\n",
              "      <td>NaN</td>\n",
              "      <td>NaN</td>\n",
              "      <td>NaN</td>\n",
              "    </tr>\n",
              "    <tr>\n",
              "      <th>208162</th>\n",
              "      <td>269.0</td>\n",
              "      <td>&lt;NA&gt;</td>\n",
              "      <td>NaN</td>\n",
              "      <td>NaN</td>\n",
              "      <td>NaN</td>\n",
              "    </tr>\n",
              "    <tr>\n",
              "      <th>208270</th>\n",
              "      <td>62.0</td>\n",
              "      <td>&lt;NA&gt;</td>\n",
              "      <td>NaN</td>\n",
              "      <td>NaN</td>\n",
              "      <td>NaN</td>\n",
              "    </tr>\n",
              "    <tr>\n",
              "      <th>208378</th>\n",
              "      <td>28.0</td>\n",
              "      <td>&lt;NA&gt;</td>\n",
              "      <td>NaN</td>\n",
              "      <td>NaN</td>\n",
              "      <td>NaN</td>\n",
              "    </tr>\n",
              "    <tr>\n",
              "      <th>208486</th>\n",
              "      <td>31.0</td>\n",
              "      <td>&lt;NA&gt;</td>\n",
              "      <td>NaN</td>\n",
              "      <td>NaN</td>\n",
              "      <td>NaN</td>\n",
              "    </tr>\n",
              "    <tr>\n",
              "      <th>208567</th>\n",
              "      <td>20.0</td>\n",
              "      <td>&lt;NA&gt;</td>\n",
              "      <td>NaN</td>\n",
              "      <td>NaN</td>\n",
              "      <td>NaN</td>\n",
              "    </tr>\n",
              "    <tr>\n",
              "      <th>210883</th>\n",
              "      <td>33.0</td>\n",
              "      <td>2</td>\n",
              "      <td>NaN</td>\n",
              "      <td>-3.6</td>\n",
              "      <td>-36.0</td>\n",
              "    </tr>\n",
              "  </tbody>\n",
              "</table>\n",
              "</div>\n",
              "      <button class=\"colab-df-convert\" onclick=\"convertToInteractive('df-b41c3dcf-71a2-481d-8fb2-8a32a5d84cbb')\"\n",
              "              title=\"Convert this dataframe to an interactive table.\"\n",
              "              style=\"display:none;\">\n",
              "        \n",
              "  <svg xmlns=\"http://www.w3.org/2000/svg\" height=\"24px\"viewBox=\"0 0 24 24\"\n",
              "       width=\"24px\">\n",
              "    <path d=\"M0 0h24v24H0V0z\" fill=\"none\"/>\n",
              "    <path d=\"M18.56 5.44l.94 2.06.94-2.06 2.06-.94-2.06-.94-.94-2.06-.94 2.06-2.06.94zm-11 1L8.5 8.5l.94-2.06 2.06-.94-2.06-.94L8.5 2.5l-.94 2.06-2.06.94zm10 10l.94 2.06.94-2.06 2.06-.94-2.06-.94-.94-2.06-.94 2.06-2.06.94z\"/><path d=\"M17.41 7.96l-1.37-1.37c-.4-.4-.92-.59-1.43-.59-.52 0-1.04.2-1.43.59L10.3 9.45l-7.72 7.72c-.78.78-.78 2.05 0 2.83L4 21.41c.39.39.9.59 1.41.59.51 0 1.02-.2 1.41-.59l7.78-7.78 2.81-2.81c.8-.78.8-2.07 0-2.86zM5.41 20L4 18.59l7.72-7.72 1.47 1.35L5.41 20z\"/>\n",
              "  </svg>\n",
              "      </button>\n",
              "      \n",
              "  <style>\n",
              "    .colab-df-container {\n",
              "      display:flex;\n",
              "      flex-wrap:wrap;\n",
              "      gap: 12px;\n",
              "    }\n",
              "\n",
              "    .colab-df-convert {\n",
              "      background-color: #E8F0FE;\n",
              "      border: none;\n",
              "      border-radius: 50%;\n",
              "      cursor: pointer;\n",
              "      display: none;\n",
              "      fill: #1967D2;\n",
              "      height: 32px;\n",
              "      padding: 0 0 0 0;\n",
              "      width: 32px;\n",
              "    }\n",
              "\n",
              "    .colab-df-convert:hover {\n",
              "      background-color: #E2EBFA;\n",
              "      box-shadow: 0px 1px 2px rgba(60, 64, 67, 0.3), 0px 1px 3px 1px rgba(60, 64, 67, 0.15);\n",
              "      fill: #174EA6;\n",
              "    }\n",
              "\n",
              "    [theme=dark] .colab-df-convert {\n",
              "      background-color: #3B4455;\n",
              "      fill: #D2E3FC;\n",
              "    }\n",
              "\n",
              "    [theme=dark] .colab-df-convert:hover {\n",
              "      background-color: #434B5C;\n",
              "      box-shadow: 0px 1px 3px 1px rgba(0, 0, 0, 0.15);\n",
              "      filter: drop-shadow(0px 1px 2px rgba(0, 0, 0, 0.3));\n",
              "      fill: #FFFFFF;\n",
              "    }\n",
              "  </style>\n",
              "\n",
              "      <script>\n",
              "        const buttonEl =\n",
              "          document.querySelector('#df-b41c3dcf-71a2-481d-8fb2-8a32a5d84cbb button.colab-df-convert');\n",
              "        buttonEl.style.display =\n",
              "          google.colab.kernel.accessAllowed ? 'block' : 'none';\n",
              "\n",
              "        async function convertToInteractive(key) {\n",
              "          const element = document.querySelector('#df-b41c3dcf-71a2-481d-8fb2-8a32a5d84cbb');\n",
              "          const dataTable =\n",
              "            await google.colab.kernel.invokeFunction('convertToInteractive',\n",
              "                                                     [key], {});\n",
              "          if (!dataTable) return;\n",
              "\n",
              "          const docLinkHtml = 'Like what you see? Visit the ' +\n",
              "            '<a target=\"_blank\" href=https://colab.research.google.com/notebooks/data_table.ipynb>data table notebook</a>'\n",
              "            + ' to learn more about interactive tables.';\n",
              "          element.innerHTML = '';\n",
              "          dataTable['output_type'] = 'display_data';\n",
              "          await google.colab.output.renderOutput(dataTable, element);\n",
              "          const docLink = document.createElement('div');\n",
              "          docLink.innerHTML = docLinkHtml;\n",
              "          element.appendChild(docLink);\n",
              "        }\n",
              "      </script>\n",
              "    </div>\n",
              "  </div>\n",
              "  "
            ]
          },
          "metadata": {},
          "execution_count": 20
        }
      ]
    },
    {
      "cell_type": "code",
      "source": [
        "# Exclusão dos registros com dados missing\n",
        "vendas_total = vendas_total.dropna()"
      ],
      "metadata": {
        "id": "knPw5EcSf0LS"
      },
      "execution_count": 21,
      "outputs": []
    },
    {
      "cell_type": "markdown",
      "source": [
        "2)    Analise os dados na perspectiva da coluna quantidade. Existem Outliers nos dados disponibilizados? É possível identificar algo em relação as vendas relacionadas a esses Outliers? Justifique sua resposta.\n",
        "\n",
        "R: Encontramos 3 registros que podemos considerar como outliers na coluna quantidade, conforme análise gráfica do boxplot, mínimo e máximo registro.\n",
        "\n",
        "Entendemos que o registro de venda com 1000 itens está incorreto, pois o valor_total_bruto não bate com a multiplicação de quantidade*valor, mesmo que corrigíssemos ficaríamos com a informação de valor_comissao e lucro_liquido erradas.  \n",
        "\n",
        "Nos outros 2 registros com -989 e -98, não encontramos inconsistência nos cálculos, porém decidimos pela exclusão, pois isso poderia afetar a criação da série temporal, por ser um outlier relevante."
      ],
      "metadata": {
        "id": "Y-XNXRdicarQ"
      }
    },
    {
      "cell_type": "code",
      "source": [
        "# Criando um boxplot para a coluna quantidade, notamos 3 pontos bem distantes da distribuição normal\n",
        "plt.boxplot(vendas_total['quantidade'], whis=1.5)\n",
        "plt.show()"
      ],
      "metadata": {
        "colab": {
          "base_uri": "https://localhost:8080/",
          "height": 430
        },
        "id": "c5UUfr7KjSoj",
        "outputId": "06d6a5f1-974a-4dd7-f829-a5f0ae9bcc24"
      },
      "execution_count": 18,
      "outputs": [
        {
          "output_type": "display_data",
          "data": {
            "text/plain": [
              "<Figure size 640x480 with 1 Axes>"
            ],
            "image/png": "[encoded data removed]"
          },
          "metadata": {}
        }
      ]
    },
    {
      "cell_type": "code",
      "source": [
        "# Máximo registro da coluna quantidade\n",
        "vendas_total['quantidade'].max()"
      ],
      "metadata": {
        "colab": {
          "base_uri": "https://localhost:8080/",
          "height": 0
        },
        "id": "EP4YB_fIjSYq",
        "outputId": "377fa00f-254c-4d1e-e07b-6c94978e1349"
      },
      "execution_count": 22,
      "outputs": [
        {
          "output_type": "execute_result",
          "data": {
            "text/plain": [
              "1000"
            ]
          },
          "metadata": {},
          "execution_count": 22
        }
      ]
    },
    {
      "cell_type": "code",
      "source": [
        "# Mínimo registro da coluna quantidade\n",
        "vendas_total['quantidade'].min()"
      ],
      "metadata": {
        "colab": {
          "base_uri": "https://localhost:8080/",
          "height": 0
        },
        "id": "pr4DSalgjSMI",
        "outputId": "20012ee4-6c4f-45b7-acbe-464083d1a131"
      },
      "execution_count": 23,
      "outputs": [
        {
          "output_type": "execute_result",
          "data": {
            "text/plain": [
              "-989"
            ]
          },
          "metadata": {},
          "execution_count": 23
        }
      ]
    },
    {
      "cell_type": "code",
      "source": [
        "# Verifica venda com quantidade alta\n",
        "vendas_total.loc[vendas_total['quantidade']>150]"
      ],
      "metadata": {
        "colab": {
          "base_uri": "https://localhost:8080/",
          "height": 214
        },
        "id": "5R9eYdTrjSEG",
        "outputId": "5ecc8f1c-41fa-49ad-f02b-c7b7e53b71cd"
      },
      "execution_count": 24,
      "outputs": [
        {
          "output_type": "execute_result",
          "data": {
            "text/plain": [
              "        cod_pedido regiao_pais                               produto  valor  \\\n",
              "200784      200979         Sul  Bandana Disney Mickey Fábrica Petti     1.0   \n",
              "\n",
              "        quantidade  valor_total_bruto       data           estado  \\\n",
              "200784        1000           150000.0 2022-05-03  Santa  Catarina   \n",
              "\n",
              "             formapagto centro_distribuicao responsavelpedido  valor_comissao  \\\n",
              "200784  Boleto Bancário           Tree True           Vitória          3000.0   \n",
              "\n",
              "        lucro_liquido categoriaprod  \n",
              "200784       105000.0     Acessório  "
            ],
            "text/html": [
              "\n",
              "  <div id=\"df-e3936444-3711-4586-833e-27a064a78dfb\">\n",
              "    <div class=\"colab-df-container\">\n",
              "      <div>\n",
              "<style scoped>\n",
              "    .dataframe tbody tr th:only-of-type {\n",
              "        vertical-align: middle;\n",
              "    }\n",
              "\n",
              "    .dataframe tbody tr th {\n",
              "        vertical-align: top;\n",
              "    }\n",
              "\n",
              "    .dataframe thead th {\n",
              "        text-align: right;\n",
              "    }\n",
              "</style>\n",
              "<table border=\"1\" class=\"dataframe\">\n",
              "  <thead>\n",
              "    <tr style=\"text-align: right;\">\n",
              "      <th></th>\n",
              "      <th>cod_pedido</th>\n",
              "      <th>regiao_pais</th>\n",
              "      <th>produto</th>\n",
              "      <th>valor</th>\n",
              "      <th>quantidade</th>\n",
              "      <th>valor_total_bruto</th>\n",
              "      <th>data</th>\n",
              "      <th>estado</th>\n",
              "      <th>formapagto</th>\n",
              "      <th>centro_distribuicao</th>\n",
              "      <th>responsavelpedido</th>\n",
              "      <th>valor_comissao</th>\n",
              "      <th>lucro_liquido</th>\n",
              "      <th>categoriaprod</th>\n",
              "    </tr>\n",
              "  </thead>\n",
              "  <tbody>\n",
              "    <tr>\n",
              "      <th>200784</th>\n",
              "      <td>200979</td>\n",
              "      <td>Sul</td>\n",
              "      <td>Bandana Disney Mickey Fábrica Petti</td>\n",
              "      <td>1.0</td>\n",
              "      <td>1000</td>\n",
              "      <td>150000.0</td>\n",
              "      <td>2022-05-03</td>\n",
              "      <td>Santa  Catarina</td>\n",
              "      <td>Boleto Bancário</td>\n",
              "      <td>Tree True</td>\n",
              "      <td>Vitória</td>\n",
              "      <td>3000.0</td>\n",
              "      <td>105000.0</td>\n",
              "      <td>Acessório</td>\n",
              "    </tr>\n",
              "  </tbody>\n",
              "</table>\n",
              "</div>\n",
              "      <button class=\"colab-df-convert\" onclick=\"convertToInteractive('df-e3936444-3711-4586-833e-27a064a78dfb')\"\n",
              "              title=\"Convert this dataframe to an interactive table.\"\n",
              "              style=\"display:none;\">\n",
              "        \n",
              "  <svg xmlns=\"http://www.w3.org/2000/svg\" height=\"24px\"viewBox=\"0 0 24 24\"\n",
              "       width=\"24px\">\n",
              "    <path d=\"M0 0h24v24H0V0z\" fill=\"none\"/>\n",
              "    <path d=\"M18.56 5.44l.94 2.06.94-2.06 2.06-.94-2.06-.94-.94-2.06-.94 2.06-2.06.94zm-11 1L8.5 8.5l.94-2.06 2.06-.94-2.06-.94L8.5 2.5l-.94 2.06-2.06.94zm10 10l.94 2.06.94-2.06 2.06-.94-2.06-.94-.94-2.06-.94 2.06-2.06.94z\"/><path d=\"M17.41 7.96l-1.37-1.37c-.4-.4-.92-.59-1.43-.59-.52 0-1.04.2-1.43.59L10.3 9.45l-7.72 7.72c-.78.78-.78 2.05 0 2.83L4 21.41c.39.39.9.59 1.41.59.51 0 1.02-.2 1.41-.59l7.78-7.78 2.81-2.81c.8-.78.8-2.07 0-2.86zM5.41 20L4 18.59l7.72-7.72 1.47 1.35L5.41 20z\"/>\n",
              "  </svg>\n",
              "      </button>\n",
              "      \n",
              "  <style>\n",
              "    .colab-df-container {\n",
              "      display:flex;\n",
              "      flex-wrap:wrap;\n",
              "      gap: 12px;\n",
              "    }\n",
              "\n",
              "    .colab-df-convert {\n",
              "      background-color: #E8F0FE;\n",
              "      border: none;\n",
              "      border-radius: 50%;\n",
              "      cursor: pointer;\n",
              "      display: none;\n",
              "      fill: #1967D2;\n",
              "      height: 32px;\n",
              "      padding: 0 0 0 0;\n",
              "      width: 32px;\n",
              "    }\n",
              "\n",
              "    .colab-df-convert:hover {\n",
              "      background-color: #E2EBFA;\n",
              "      box-shadow: 0px 1px 2px rgba(60, 64, 67, 0.3), 0px 1px 3px 1px rgba(60, 64, 67, 0.15);\n",
              "      fill: #174EA6;\n",
              "    }\n",
              "\n",
              "    [theme=dark] .colab-df-convert {\n",
              "      background-color: #3B4455;\n",
              "      fill: #D2E3FC;\n",
              "    }\n",
              "\n",
              "    [theme=dark] .colab-df-convert:hover {\n",
              "      background-color: #434B5C;\n",
              "      box-shadow: 0px 1px 3px 1px rgba(0, 0, 0, 0.15);\n",
              "      filter: drop-shadow(0px 1px 2px rgba(0, 0, 0, 0.3));\n",
              "      fill: #FFFFFF;\n",
              "    }\n",
              "  </style>\n",
              "\n",
              "      <script>\n",
              "        const buttonEl =\n",
              "          document.querySelector('#df-e3936444-3711-4586-833e-27a064a78dfb button.colab-df-convert');\n",
              "        buttonEl.style.display =\n",
              "          google.colab.kernel.accessAllowed ? 'block' : 'none';\n",
              "\n",
              "        async function convertToInteractive(key) {\n",
              "          const element = document.querySelector('#df-e3936444-3711-4586-833e-27a064a78dfb');\n",
              "          const dataTable =\n",
              "            await google.colab.kernel.invokeFunction('convertToInteractive',\n",
              "                                                     [key], {});\n",
              "          if (!dataTable) return;\n",
              "\n",
              "          const docLinkHtml = 'Like what you see? Visit the ' +\n",
              "            '<a target=\"_blank\" href=https://colab.research.google.com/notebooks/data_table.ipynb>data table notebook</a>'\n",
              "            + ' to learn more about interactive tables.';\n",
              "          element.innerHTML = '';\n",
              "          dataTable['output_type'] = 'display_data';\n",
              "          await google.colab.output.renderOutput(dataTable, element);\n",
              "          const docLink = document.createElement('div');\n",
              "          docLink.innerHTML = docLinkHtml;\n",
              "          element.appendChild(docLink);\n",
              "        }\n",
              "      </script>\n",
              "    </div>\n",
              "  </div>\n",
              "  "
            ]
          },
          "metadata": {},
          "execution_count": 24
        }
      ]
    },
    {
      "cell_type": "code",
      "source": [
        "# Realiza exclusão do registro encontrado\n",
        "vendas_total = vendas_total.drop(vendas_total[vendas_total['quantidade'] > 150].index)"
      ],
      "metadata": {
        "id": "B_9c_ylDqVcb"
      },
      "execution_count": 25,
      "outputs": []
    },
    {
      "cell_type": "code",
      "source": [
        "# Verifica venda com quantidade baixa\n",
        "vendas_total.loc[vendas_total['quantidade']<-50]"
      ],
      "metadata": {
        "colab": {
          "base_uri": "https://localhost:8080/",
          "height": 350
        },
        "id": "PNi8c7bdjR6K",
        "outputId": "16e9ce78-cb8e-4306-f3cb-08cedecdfd04"
      },
      "execution_count": 26,
      "outputs": [
        {
          "output_type": "execute_result",
          "data": {
            "text/plain": [
              "        cod_pedido regiao_pais  \\\n",
              "160260      160455         Sul   \n",
              "164501      164696    Nordeste   \n",
              "\n",
              "                                                  produto  valor  quantidade  \\\n",
              "160260  Shampoo vegano para cachorro e gato de camomil...   25.0         -98   \n",
              "164501        Kit Banho e Tosa com Escova PetShop Cãopeon   63.0        -989   \n",
              "\n",
              "        valor_total_bruto       data             estado       formapagto  \\\n",
              "160260            -2450.0 2022-07-27  Rio Grande do Sul   Cartão Crédito   \n",
              "164501           -62307.0 2022-02-05            Paraíba  Boleto Bancário   \n",
              "\n",
              "       centro_distribuicao responsavelpedido  valor_comissao  lucro_liquido  \\\n",
              "160260           Tree True            Vivian          -49.00        -1960.0   \n",
              "164501          Gold Beach          Cristina        -3115.35       -49845.6   \n",
              "\n",
              "            categoriaprod  \n",
              "160260  Higiene e Limpeza  \n",
              "164501  Higiene e Limpeza  "
            ],
            "text/html": [
              "\n",
              "  <div id=\"df-0e823393-05cf-45b7-82b9-ee2d145bc742\">\n",
              "    <div class=\"colab-df-container\">\n",
              "      <div>\n",
              "<style scoped>\n",
              "    .dataframe tbody tr th:only-of-type {\n",
              "        vertical-align: middle;\n",
              "    }\n",
              "\n",
              "    .dataframe tbody tr th {\n",
              "        vertical-align: top;\n",
              "    }\n",
              "\n",
              "    .dataframe thead th {\n",
              "        text-align: right;\n",
              "    }\n",
              "</style>\n",
              "<table border=\"1\" class=\"dataframe\">\n",
              "  <thead>\n",
              "    <tr style=\"text-align: right;\">\n",
              "      <th></th>\n",
              "      <th>cod_pedido</th>\n",
              "      <th>regiao_pais</th>\n",
              "      <th>produto</th>\n",
              "      <th>valor</th>\n",
              "      <th>quantidade</th>\n",
              "      <th>valor_total_bruto</th>\n",
              "      <th>data</th>\n",
              "      <th>estado</th>\n",
              "      <th>formapagto</th>\n",
              "      <th>centro_distribuicao</th>\n",
              "      <th>responsavelpedido</th>\n",
              "      <th>valor_comissao</th>\n",
              "      <th>lucro_liquido</th>\n",
              "      <th>categoriaprod</th>\n",
              "    </tr>\n",
              "  </thead>\n",
              "  <tbody>\n",
              "    <tr>\n",
              "      <th>160260</th>\n",
              "      <td>160455</td>\n",
              "      <td>Sul</td>\n",
              "      <td>Shampoo vegano para cachorro e gato de camomil...</td>\n",
              "      <td>25.0</td>\n",
              "      <td>-98</td>\n",
              "      <td>-2450.0</td>\n",
              "      <td>2022-07-27</td>\n",
              "      <td>Rio Grande do Sul</td>\n",
              "      <td>Cartão Crédito</td>\n",
              "      <td>Tree True</td>\n",
              "      <td>Vivian</td>\n",
              "      <td>-49.00</td>\n",
              "      <td>-1960.0</td>\n",
              "      <td>Higiene e Limpeza</td>\n",
              "    </tr>\n",
              "    <tr>\n",
              "      <th>164501</th>\n",
              "      <td>164696</td>\n",
              "      <td>Nordeste</td>\n",
              "      <td>Kit Banho e Tosa com Escova PetShop Cãopeon</td>\n",
              "      <td>63.0</td>\n",
              "      <td>-989</td>\n",
              "      <td>-62307.0</td>\n",
              "      <td>2022-02-05</td>\n",
              "      <td>Paraíba</td>\n",
              "      <td>Boleto Bancário</td>\n",
              "      <td>Gold Beach</td>\n",
              "      <td>Cristina</td>\n",
              "      <td>-3115.35</td>\n",
              "      <td>-49845.6</td>\n",
              "      <td>Higiene e Limpeza</td>\n",
              "    </tr>\n",
              "  </tbody>\n",
              "</table>\n",
              "</div>\n",
              "      <button class=\"colab-df-convert\" onclick=\"convertToInteractive('df-0e823393-05cf-45b7-82b9-ee2d145bc742')\"\n",
              "              title=\"Convert this dataframe to an interactive table.\"\n",
              "              style=\"display:none;\">\n",
              "        \n",
              "  <svg xmlns=\"http://www.w3.org/2000/svg\" height=\"24px\"viewBox=\"0 0 24 24\"\n",
              "       width=\"24px\">\n",
              "    <path d=\"M0 0h24v24H0V0z\" fill=\"none\"/>\n",
              "    <path d=\"M18.56 5.44l.94 2.06.94-2.06 2.06-.94-2.06-.94-.94-2.06-.94 2.06-2.06.94zm-11 1L8.5 8.5l.94-2.06 2.06-.94-2.06-.94L8.5 2.5l-.94 2.06-2.06.94zm10 10l.94 2.06.94-2.06 2.06-.94-2.06-.94-.94-2.06-.94 2.06-2.06.94z\"/><path d=\"M17.41 7.96l-1.37-1.37c-.4-.4-.92-.59-1.43-.59-.52 0-1.04.2-1.43.59L10.3 9.45l-7.72 7.72c-.78.78-.78 2.05 0 2.83L4 21.41c.39.39.9.59 1.41.59.51 0 1.02-.2 1.41-.59l7.78-7.78 2.81-2.81c.8-.78.8-2.07 0-2.86zM5.41 20L4 18.59l7.72-7.72 1.47 1.35L5.41 20z\"/>\n",
              "  </svg>\n",
              "      </button>\n",
              "      \n",
              "  <style>\n",
              "    .colab-df-container {\n",
              "      display:flex;\n",
              "      flex-wrap:wrap;\n",
              "      gap: 12px;\n",
              "    }\n",
              "\n",
              "    .colab-df-convert {\n",
              "      background-color: #E8F0FE;\n",
              "      border: none;\n",
              "      border-radius: 50%;\n",
              "      cursor: pointer;\n",
              "      display: none;\n",
              "      fill: #1967D2;\n",
              "      height: 32px;\n",
              "      padding: 0 0 0 0;\n",
              "      width: 32px;\n",
              "    }\n",
              "\n",
              "    .colab-df-convert:hover {\n",
              "      background-color: #E2EBFA;\n",
              "      box-shadow: 0px 1px 2px rgba(60, 64, 67, 0.3), 0px 1px 3px 1px rgba(60, 64, 67, 0.15);\n",
              "      fill: #174EA6;\n",
              "    }\n",
              "\n",
              "    [theme=dark] .colab-df-convert {\n",
              "      background-color: #3B4455;\n",
              "      fill: #D2E3FC;\n",
              "    }\n",
              "\n",
              "    [theme=dark] .colab-df-convert:hover {\n",
              "      background-color: #434B5C;\n",
              "      box-shadow: 0px 1px 3px 1px rgba(0, 0, 0, 0.15);\n",
              "      filter: drop-shadow(0px 1px 2px rgba(0, 0, 0, 0.3));\n",
              "      fill: #FFFFFF;\n",
              "    }\n",
              "  </style>\n",
              "\n",
              "      <script>\n",
              "        const buttonEl =\n",
              "          document.querySelector('#df-0e823393-05cf-45b7-82b9-ee2d145bc742 button.colab-df-convert');\n",
              "        buttonEl.style.display =\n",
              "          google.colab.kernel.accessAllowed ? 'block' : 'none';\n",
              "\n",
              "        async function convertToInteractive(key) {\n",
              "          const element = document.querySelector('#df-0e823393-05cf-45b7-82b9-ee2d145bc742');\n",
              "          const dataTable =\n",
              "            await google.colab.kernel.invokeFunction('convertToInteractive',\n",
              "                                                     [key], {});\n",
              "          if (!dataTable) return;\n",
              "\n",
              "          const docLinkHtml = 'Like what you see? Visit the ' +\n",
              "            '<a target=\"_blank\" href=https://colab.research.google.com/notebooks/data_table.ipynb>data table notebook</a>'\n",
              "            + ' to learn more about interactive tables.';\n",
              "          element.innerHTML = '';\n",
              "          dataTable['output_type'] = 'display_data';\n",
              "          await google.colab.output.renderOutput(dataTable, element);\n",
              "          const docLink = document.createElement('div');\n",
              "          docLink.innerHTML = docLinkHtml;\n",
              "          element.appendChild(docLink);\n",
              "        }\n",
              "      </script>\n",
              "    </div>\n",
              "  </div>\n",
              "  "
            ]
          },
          "metadata": {},
          "execution_count": 26
        }
      ]
    },
    {
      "cell_type": "code",
      "source": [
        "# Realiza exclusão dos registros encontrado\n",
        "vendas_total = vendas_total.drop(vendas_total[vendas_total['quantidade']<-50].index)"
      ],
      "metadata": {
        "id": "ds7xljRoH0lo"
      },
      "execution_count": 27,
      "outputs": []
    },
    {
      "cell_type": "code",
      "source": [
        "# Criando um boxplot para a coluna quantidade após remoção dos outliers\n",
        "plt.boxplot(vendas_total['quantidade'], whis=1.5)\n",
        "plt.show()"
      ],
      "metadata": {
        "colab": {
          "base_uri": "https://localhost:8080/",
          "height": 430
        },
        "id": "5bsV1kN0lyk6",
        "outputId": "98ebf03e-12ea-4d7e-ac22-ce8f2d52a19e"
      },
      "execution_count": 73,
      "outputs": [
        {
          "output_type": "display_data",
          "data": {
            "text/plain": [
              "<Figure size 640x480 with 1 Axes>"
            ],
            "image/png": "[encoded data removed]"
          },
          "metadata": {}
        }
      ]
    },
    {
      "cell_type": "markdown",
      "source": [
        "3)    Em relação a consistência do dado valor_total_bruto, o que é possível refletir sobre seus conteúdos? Existem dados inconsistentes? Justifique como é possível corrigi-los e realize essa importante atividade, deixando esses dados prontos para análise.\n",
        "\n",
        "R: O valor total bruto é obtido pelo cálculo \"valor*quantidade\", fazendo a homologação deste cálculo notamos que em 7.581 casos a coluna valor_total_bruto está com dados errados.\n",
        "\n",
        "É possível corrigirmos, refazendo o cálculo e atualizando essa coluna para os registros inconsistentes."
      ],
      "metadata": {
        "id": "atg0FyCbfK9r"
      }
    },
    {
      "cell_type": "code",
      "source": [
        "# Verifica registros inconsistentes\n",
        "vendas_total[['valor', 'quantidade', 'valor_total_bruto']].loc[ vendas_total['valor_total_bruto'] != vendas_total['valor']*vendas_total['quantidade'] ]"
      ],
      "metadata": {
        "colab": {
          "base_uri": "https://localhost:8080/",
          "height": 424
        },
        "id": "T5E0SLmbgoFL",
        "outputId": "ff2082fd-20fb-4632-8648-f7ea26e00389"
      },
      "execution_count": 29,
      "outputs": [
        {
          "output_type": "execute_result",
          "data": {
            "text/plain": [
              "        valor  quantidade  valor_total_bruto\n",
              "3        19.0           4               88.0\n",
              "11       20.0           3               54.0\n",
              "14       20.0           2                0.0\n",
              "26       22.0           1                0.0\n",
              "38       18.0           1                0.0\n",
              "...       ...         ...                ...\n",
              "211639   19.0           2               -2.0\n",
              "211694   33.0           4               -2.0\n",
              "211721   29.0           6                0.0\n",
              "211748   58.0           3                1.0\n",
              "211775  280.0           3               -1.0\n",
              "\n",
              "[7581 rows x 3 columns]"
            ],
            "text/html": [
              "\n",
              "  <div id=\"df-eacb4966-d40b-4085-b21c-8a062472ff22\">\n",
              "    <div class=\"colab-df-container\">\n",
              "      <div>\n",
              "<style scoped>\n",
              "    .dataframe tbody tr th:only-of-type {\n",
              "        vertical-align: middle;\n",
              "    }\n",
              "\n",
              "    .dataframe tbody tr th {\n",
              "        vertical-align: top;\n",
              "    }\n",
              "\n",
              "    .dataframe thead th {\n",
              "        text-align: right;\n",
              "    }\n",
              "</style>\n",
              "<table border=\"1\" class=\"dataframe\">\n",
              "  <thead>\n",
              "    <tr style=\"text-align: right;\">\n",
              "      <th></th>\n",
              "      <th>valor</th>\n",
              "      <th>quantidade</th>\n",
              "      <th>valor_total_bruto</th>\n",
              "    </tr>\n",
              "  </thead>\n",
              "  <tbody>\n",
              "    <tr>\n",
              "      <th>3</th>\n",
              "      <td>19.0</td>\n",
              "      <td>4</td>\n",
              "      <td>88.0</td>\n",
              "    </tr>\n",
              "    <tr>\n",
              "      <th>11</th>\n",
              "      <td>20.0</td>\n",
              "      <td>3</td>\n",
              "      <td>54.0</td>\n",
              "    </tr>\n",
              "    <tr>\n",
              "      <th>14</th>\n",
              "      <td>20.0</td>\n",
              "      <td>2</td>\n",
              "      <td>0.0</td>\n",
              "    </tr>\n",
              "    <tr>\n",
              "      <th>26</th>\n",
              "      <td>22.0</td>\n",
              "      <td>1</td>\n",
              "      <td>0.0</td>\n",
              "    </tr>\n",
              "    <tr>\n",
              "      <th>38</th>\n",
              "      <td>18.0</td>\n",
              "      <td>1</td>\n",
              "      <td>0.0</td>\n",
              "    </tr>\n",
              "    <tr>\n",
              "      <th>...</th>\n",
              "      <td>...</td>\n",
              "      <td>...</td>\n",
              "      <td>...</td>\n",
              "    </tr>\n",
              "    <tr>\n",
              "      <th>211639</th>\n",
              "      <td>19.0</td>\n",
              "      <td>2</td>\n",
              "      <td>-2.0</td>\n",
              "    </tr>\n",
              "    <tr>\n",
              "      <th>211694</th>\n",
              "      <td>33.0</td>\n",
              "      <td>4</td>\n",
              "      <td>-2.0</td>\n",
              "    </tr>\n",
              "    <tr>\n",
              "      <th>211721</th>\n",
              "      <td>29.0</td>\n",
              "      <td>6</td>\n",
              "      <td>0.0</td>\n",
              "    </tr>\n",
              "    <tr>\n",
              "      <th>211748</th>\n",
              "      <td>58.0</td>\n",
              "      <td>3</td>\n",
              "      <td>1.0</td>\n",
              "    </tr>\n",
              "    <tr>\n",
              "      <th>211775</th>\n",
              "      <td>280.0</td>\n",
              "      <td>3</td>\n",
              "      <td>-1.0</td>\n",
              "    </tr>\n",
              "  </tbody>\n",
              "</table>\n",
              "<p>7581 rows × 3 columns</p>\n",
              "</div>\n",
              "      <button class=\"colab-df-convert\" onclick=\"convertToInteractive('df-eacb4966-d40b-4085-b21c-8a062472ff22')\"\n",
              "              title=\"Convert this dataframe to an interactive table.\"\n",
              "              style=\"display:none;\">\n",
              "        \n",
              "  <svg xmlns=\"http://www.w3.org/2000/svg\" height=\"24px\"viewBox=\"0 0 24 24\"\n",
              "       width=\"24px\">\n",
              "    <path d=\"M0 0h24v24H0V0z\" fill=\"none\"/>\n",
              "    <path d=\"M18.56 5.44l.94 2.06.94-2.06 2.06-.94-2.06-.94-.94-2.06-.94 2.06-2.06.94zm-11 1L8.5 8.5l.94-2.06 2.06-.94-2.06-.94L8.5 2.5l-.94 2.06-2.06.94zm10 10l.94 2.06.94-2.06 2.06-.94-2.06-.94-.94-2.06-.94 2.06-2.06.94z\"/><path d=\"M17.41 7.96l-1.37-1.37c-.4-.4-.92-.59-1.43-.59-.52 0-1.04.2-1.43.59L10.3 9.45l-7.72 7.72c-.78.78-.78 2.05 0 2.83L4 21.41c.39.39.9.59 1.41.59.51 0 1.02-.2 1.41-.59l7.78-7.78 2.81-2.81c.8-.78.8-2.07 0-2.86zM5.41 20L4 18.59l7.72-7.72 1.47 1.35L5.41 20z\"/>\n",
              "  </svg>\n",
              "      </button>\n",
              "      \n",
              "  <style>\n",
              "    .colab-df-container {\n",
              "      display:flex;\n",
              "      flex-wrap:wrap;\n",
              "      gap: 12px;\n",
              "    }\n",
              "\n",
              "    .colab-df-convert {\n",
              "      background-color: #E8F0FE;\n",
              "      border: none;\n",
              "      border-radius: 50%;\n",
              "      cursor: pointer;\n",
              "      display: none;\n",
              "      fill: #1967D2;\n",
              "      height: 32px;\n",
              "      padding: 0 0 0 0;\n",
              "      width: 32px;\n",
              "    }\n",
              "\n",
              "    .colab-df-convert:hover {\n",
              "      background-color: #E2EBFA;\n",
              "      box-shadow: 0px 1px 2px rgba(60, 64, 67, 0.3), 0px 1px 3px 1px rgba(60, 64, 67, 0.15);\n",
              "      fill: #174EA6;\n",
              "    }\n",
              "\n",
              "    [theme=dark] .colab-df-convert {\n",
              "      background-color: #3B4455;\n",
              "      fill: #D2E3FC;\n",
              "    }\n",
              "\n",
              "    [theme=dark] .colab-df-convert:hover {\n",
              "      background-color: #434B5C;\n",
              "      box-shadow: 0px 1px 3px 1px rgba(0, 0, 0, 0.15);\n",
              "      filter: drop-shadow(0px 1px 2px rgba(0, 0, 0, 0.3));\n",
              "      fill: #FFFFFF;\n",
              "    }\n",
              "  </style>\n",
              "\n",
              "      <script>\n",
              "        const buttonEl =\n",
              "          document.querySelector('#df-eacb4966-d40b-4085-b21c-8a062472ff22 button.colab-df-convert');\n",
              "        buttonEl.style.display =\n",
              "          google.colab.kernel.accessAllowed ? 'block' : 'none';\n",
              "\n",
              "        async function convertToInteractive(key) {\n",
              "          const element = document.querySelector('#df-eacb4966-d40b-4085-b21c-8a062472ff22');\n",
              "          const dataTable =\n",
              "            await google.colab.kernel.invokeFunction('convertToInteractive',\n",
              "                                                     [key], {});\n",
              "          if (!dataTable) return;\n",
              "\n",
              "          const docLinkHtml = 'Like what you see? Visit the ' +\n",
              "            '<a target=\"_blank\" href=https://colab.research.google.com/notebooks/data_table.ipynb>data table notebook</a>'\n",
              "            + ' to learn more about interactive tables.';\n",
              "          element.innerHTML = '';\n",
              "          dataTable['output_type'] = 'display_data';\n",
              "          await google.colab.output.renderOutput(dataTable, element);\n",
              "          const docLink = document.createElement('div');\n",
              "          docLink.innerHTML = docLinkHtml;\n",
              "          element.appendChild(docLink);\n",
              "        }\n",
              "      </script>\n",
              "    </div>\n",
              "  </div>\n",
              "  "
            ]
          },
          "metadata": {},
          "execution_count": 29
        }
      ]
    },
    {
      "cell_type": "code",
      "source": [
        "# Realiza correção da coluna valor_total_bruto\n",
        "vendas_total['valor_total_bruto'].loc[ vendas_total['valor_total_bruto'] != vendas_total['valor']*vendas_total['quantidade'] ] = \\\n",
        "vendas_total['valor']*vendas_total['quantidade'].loc[ vendas_total['valor_total_bruto'] != vendas_total['valor']*vendas_total['quantidade'] ]"
      ],
      "metadata": {
        "colab": {
          "base_uri": "https://localhost:8080/",
          "height": 0
        },
        "id": "SJb0m0LUh0R3",
        "outputId": "96ef08d2-b1be-4ae4-e08f-6437c4e06187"
      },
      "execution_count": 30,
      "outputs": [
        {
          "output_type": "stream",
          "name": "stderr",
          "text": [
            "<ipython-input-30-50fe79709e59>:2: SettingWithCopyWarning: \n",
            "A value is trying to be set on a copy of a slice from a DataFrame\n",
            "\n",
            "See the caveats in the documentation: https://pandas.pydata.org/pandas-docs/stable/user_guide/indexing.html#returning-a-view-versus-a-copy\n",
            "  vendas_total['valor_total_bruto'].loc[ vendas_total['valor_total_bruto'] != vendas_total['valor']*vendas_total['quantidade'] ] = \\\n"
          ]
        }
      ]
    },
    {
      "cell_type": "code",
      "source": [
        "# Verificação após a correção\n",
        "vendas_total[['valor', 'quantidade', 'valor_total_bruto']].loc[ vendas_total['valor_total_bruto'] != vendas_total['valor']*vendas_total['quantidade'] ]"
      ],
      "metadata": {
        "colab": {
          "base_uri": "https://localhost:8080/",
          "height": 49
        },
        "id": "XvbjNsl7iKEM",
        "outputId": "28edd55d-b808-4253-98cb-fdb3cef609bd"
      },
      "execution_count": 31,
      "outputs": [
        {
          "output_type": "execute_result",
          "data": {
            "text/plain": [
              "Empty DataFrame\n",
              "Columns: [valor, quantidade, valor_total_bruto]\n",
              "Index: []"
            ],
            "text/html": [
              "\n",
              "  <div id=\"df-5ccb7dad-79ee-402d-90c6-e598fe4225b7\">\n",
              "    <div class=\"colab-df-container\">\n",
              "      <div>\n",
              "<style scoped>\n",
              "    .dataframe tbody tr th:only-of-type {\n",
              "        vertical-align: middle;\n",
              "    }\n",
              "\n",
              "    .dataframe tbody tr th {\n",
              "        vertical-align: top;\n",
              "    }\n",
              "\n",
              "    .dataframe thead th {\n",
              "        text-align: right;\n",
              "    }\n",
              "</style>\n",
              "<table border=\"1\" class=\"dataframe\">\n",
              "  <thead>\n",
              "    <tr style=\"text-align: right;\">\n",
              "      <th></th>\n",
              "      <th>valor</th>\n",
              "      <th>quantidade</th>\n",
              "      <th>valor_total_bruto</th>\n",
              "    </tr>\n",
              "  </thead>\n",
              "  <tbody>\n",
              "  </tbody>\n",
              "</table>\n",
              "</div>\n",
              "      <button class=\"colab-df-convert\" onclick=\"convertToInteractive('df-5ccb7dad-79ee-402d-90c6-e598fe4225b7')\"\n",
              "              title=\"Convert this dataframe to an interactive table.\"\n",
              "              style=\"display:none;\">\n",
              "        \n",
              "  <svg xmlns=\"http://www.w3.org/2000/svg\" height=\"24px\"viewBox=\"0 0 24 24\"\n",
              "       width=\"24px\">\n",
              "    <path d=\"M0 0h24v24H0V0z\" fill=\"none\"/>\n",
              "    <path d=\"M18.56 5.44l.94 2.06.94-2.06 2.06-.94-2.06-.94-.94-2.06-.94 2.06-2.06.94zm-11 1L8.5 8.5l.94-2.06 2.06-.94-2.06-.94L8.5 2.5l-.94 2.06-2.06.94zm10 10l.94 2.06.94-2.06 2.06-.94-2.06-.94-.94-2.06-.94 2.06-2.06.94z\"/><path d=\"M17.41 7.96l-1.37-1.37c-.4-.4-.92-.59-1.43-.59-.52 0-1.04.2-1.43.59L10.3 9.45l-7.72 7.72c-.78.78-.78 2.05 0 2.83L4 21.41c.39.39.9.59 1.41.59.51 0 1.02-.2 1.41-.59l7.78-7.78 2.81-2.81c.8-.78.8-2.07 0-2.86zM5.41 20L4 18.59l7.72-7.72 1.47 1.35L5.41 20z\"/>\n",
              "  </svg>\n",
              "      </button>\n",
              "      \n",
              "  <style>\n",
              "    .colab-df-container {\n",
              "      display:flex;\n",
              "      flex-wrap:wrap;\n",
              "      gap: 12px;\n",
              "    }\n",
              "\n",
              "    .colab-df-convert {\n",
              "      background-color: #E8F0FE;\n",
              "      border: none;\n",
              "      border-radius: 50%;\n",
              "      cursor: pointer;\n",
              "      display: none;\n",
              "      fill: #1967D2;\n",
              "      height: 32px;\n",
              "      padding: 0 0 0 0;\n",
              "      width: 32px;\n",
              "    }\n",
              "\n",
              "    .colab-df-convert:hover {\n",
              "      background-color: #E2EBFA;\n",
              "      box-shadow: 0px 1px 2px rgba(60, 64, 67, 0.3), 0px 1px 3px 1px rgba(60, 64, 67, 0.15);\n",
              "      fill: #174EA6;\n",
              "    }\n",
              "\n",
              "    [theme=dark] .colab-df-convert {\n",
              "      background-color: #3B4455;\n",
              "      fill: #D2E3FC;\n",
              "    }\n",
              "\n",
              "    [theme=dark] .colab-df-convert:hover {\n",
              "      background-color: #434B5C;\n",
              "      box-shadow: 0px 1px 3px 1px rgba(0, 0, 0, 0.15);\n",
              "      filter: drop-shadow(0px 1px 2px rgba(0, 0, 0, 0.3));\n",
              "      fill: #FFFFFF;\n",
              "    }\n",
              "  </style>\n",
              "\n",
              "      <script>\n",
              "        const buttonEl =\n",
              "          document.querySelector('#df-5ccb7dad-79ee-402d-90c6-e598fe4225b7 button.colab-df-convert');\n",
              "        buttonEl.style.display =\n",
              "          google.colab.kernel.accessAllowed ? 'block' : 'none';\n",
              "\n",
              "        async function convertToInteractive(key) {\n",
              "          const element = document.querySelector('#df-5ccb7dad-79ee-402d-90c6-e598fe4225b7');\n",
              "          const dataTable =\n",
              "            await google.colab.kernel.invokeFunction('convertToInteractive',\n",
              "                                                     [key], {});\n",
              "          if (!dataTable) return;\n",
              "\n",
              "          const docLinkHtml = 'Like what you see? Visit the ' +\n",
              "            '<a target=\"_blank\" href=https://colab.research.google.com/notebooks/data_table.ipynb>data table notebook</a>'\n",
              "            + ' to learn more about interactive tables.';\n",
              "          element.innerHTML = '';\n",
              "          dataTable['output_type'] = 'display_data';\n",
              "          await google.colab.output.renderOutput(dataTable, element);\n",
              "          const docLink = document.createElement('div');\n",
              "          docLink.innerHTML = docLinkHtml;\n",
              "          element.appendChild(docLink);\n",
              "        }\n",
              "      </script>\n",
              "    </div>\n",
              "  </div>\n",
              "  "
            ]
          },
          "metadata": {},
          "execution_count": 31
        }
      ]
    },
    {
      "cell_type": "markdown",
      "source": [
        "4)    Após a execução da limpeza e tratamento nos dados, escolha um produto e aplique a técnica de séries temporais para realizar as seguintes atividades:"
      ],
      "metadata": {
        "id": "R1tzFg7EggwU"
      }
    },
    {
      "cell_type": "code",
      "source": [
        "# Agrupamento por produto para escolha de um deles\n",
        "group_prod = vendas_total.groupby('produto')['quantidade'].sum()\n",
        "print(group_prod)"
      ],
      "metadata": {
        "colab": {
          "base_uri": "https://localhost:8080/",
          "height": 0
        },
        "id": "mgs0gHdzi_I5",
        "outputId": "c2bed489-2d40-467b-97fa-d4f3e3d96e18"
      },
      "execution_count": 79,
      "outputs": [
        {
          "output_type": "stream",
          "name": "stdout",
          "text": [
            "produto\n",
            "Antipulgas e Carrapatos MSD Bravecto para Pet de 2 a 10 Kg       38711\n",
            "Bandana Disney Mickey Fábrica Petti                              39098\n",
            "Bebedouro e Comedouro Automático para Cães e Gatos Filhotes      32522\n",
            "Biscoito  True Champion 300g                                     43525\n",
            "Biscoito Pedigree Biscrok Multi para Cães Adultos 1 Kg 420g      38541\n",
            "Bola Pet Vinil Big Blue                                          40489\n",
            "Cama Coração Coroa Pet Nest Almofada Lavável                     35722\n",
            "Cama média almofadada Pity                                       32496\n",
            "Escova Pet Rasqueadeira Tira Pelos Cachorro e Gatos              33036\n",
            "Kit Banho e Tosa com Escova PetShop Cãopeon                      34177\n",
            "Meias esportivas para cães para ambientes internos e externos    38613\n",
            "Mordedor de Corda Bola                                           35491\n",
            "Nutri Alimentador Inteligente Automático Câmera Google Alexa     34039\n",
            "Penas Gatito                                                     36077\n",
            "Pote Petisco Para Cachorro Bifinho Sabor Carne 1Kg Amiguitos     39821\n",
            "Ração Royal Canin Club Performance para Cães Adultos             39016\n",
            "Ração Royal Canin Exigent Gatos Adultos 1,5Kg                    40076\n",
            "Ração Úmida Royal Canin Lata Veterinary Cães Adultos 500g        40617\n",
            "Roupa para Cão Billaboard                                        34513\n",
            "Roupa para Gato Petti                                            34193\n",
            "Shampoo vegano para cachorro e gato de camomila 250 ml           41207\n",
            "Suplemento Alimentar Glutamina Mundo Animal Nutrisana            40480\n",
            "Vitamina E Granulado BigForce                                    38354\n",
            "Whiskas Petisco Temptations Anti Bola de Pelo 40g                39553\n",
            "Name: quantidade, dtype: Int64\n"
          ]
        }
      ]
    },
    {
      "cell_type": "code",
      "source": [
        "# Escolhemos o produto Biscoito  True Champion 300g para a série temporal\n",
        "biscoito_tchampion = vendas_total.loc[vendas_total['produto'] =='Biscoito  True Champion 300g']"
      ],
      "metadata": {
        "id": "n5kljCsssx4G"
      },
      "execution_count": 32,
      "outputs": []
    },
    {
      "cell_type": "code",
      "source": [
        "# Verifica os dados\n",
        "print(biscoito_tchampion.head(5))"
      ],
      "metadata": {
        "colab": {
          "base_uri": "https://localhost:8080/",
          "height": 0
        },
        "id": "EQPf4t5-6cRZ",
        "outputId": "cc36a7da-995d-4f6c-ce63-577c391568c1"
      },
      "execution_count": 33,
      "outputs": [
        {
          "output_type": "stream",
          "name": "stdout",
          "text": [
            "   cod_pedido regiao_pais                       produto  valor  quantidade  \\\n",
            "0           1       Norte  Biscoito  True Champion 300g   22.0           2   \n",
            "1           2       Norte  Biscoito  True Champion 300g   21.0           2   \n",
            "2           3       Norte  Biscoito  True Champion 300g   22.0           2   \n",
            "3           4       Norte  Biscoito  True Champion 300g   19.0           4   \n",
            "4           5       Norte  Biscoito  True Champion 300g   22.0           2   \n",
            "\n",
            "   valor_total_bruto       data     estado       formapagto  \\\n",
            "0               44.0 2019-06-13       Acre         Dinheiro   \n",
            "1               42.0 2019-03-01      Amapá              Pix   \n",
            "2               44.0 2019-01-18       Pará  Boleto Bancário   \n",
            "3               76.0 2019-08-19   Rondônia  Boleto Bancário   \n",
            "4               44.0 2019-10-18  Tocantins   Cartão Crédito   \n",
            "\n",
            "  centro_distribuicao responsavelpedido  valor_comissao  lucro_liquido  \\\n",
            "0          Rapid Pink            Carlos            0.44           17.6   \n",
            "1          Rapid Pink       Maria Linda            0.42           16.8   \n",
            "2          Rapid Pink             Julia            0.88           35.2   \n",
            "3          Rapid Pink              Yuri            0.76           30.4   \n",
            "4          Rapid Pink           Dolores            0.44           17.6   \n",
            "\n",
            "  categoriaprod  \n",
            "0   Alimentação  \n",
            "1   Alimentação  \n",
            "2   Alimentação  \n",
            "3   Alimentação  \n",
            "4   Alimentação  \n"
          ]
        }
      ]
    },
    {
      "cell_type": "markdown",
      "source": [
        "a)    Criar o gráfico para a série de quantidade do produto por mês e ano"
      ],
      "metadata": {
        "id": "KmDLSG--hLRL"
      }
    },
    {
      "cell_type": "code",
      "source": [
        "# Cria coluna de Ano e Mês para criação do gráfico\n",
        "biscoito_tchampion['ano_mes'] = biscoito_tchampion['data'].dt.strftime('%Y-%B')"
      ],
      "metadata": {
        "colab": {
          "base_uri": "https://localhost:8080/",
          "height": 0
        },
        "id": "wF0FCg6o7XwX",
        "outputId": "936e8722-07cb-4749-9ebd-9d3627b5511c"
      },
      "execution_count": 34,
      "outputs": [
        {
          "output_type": "stream",
          "name": "stderr",
          "text": [
            "<ipython-input-34-79ab1e5d8716>:1: SettingWithCopyWarning: \n",
            "A value is trying to be set on a copy of a slice from a DataFrame.\n",
            "Try using .loc[row_indexer,col_indexer] = value instead\n",
            "\n",
            "See the caveats in the documentation: https://pandas.pydata.org/pandas-docs/stable/user_guide/indexing.html#returning-a-view-versus-a-copy\n",
            "  biscoito_tchampion['ano_mes'] = biscoito_tchampion['data'].dt.strftime('%Y-%B')\n"
          ]
        }
      ]
    },
    {
      "cell_type": "code",
      "source": [
        "# Verifica se coluna foi criada\n",
        "print(biscoito_tchampion.head(5))"
      ],
      "metadata": {
        "colab": {
          "base_uri": "https://localhost:8080/",
          "height": 0
        },
        "id": "MNlJiNvL7XaO",
        "outputId": "5748e98d-e6d8-4e36-d9f3-96c563513be6"
      },
      "execution_count": 36,
      "outputs": [
        {
          "output_type": "stream",
          "name": "stdout",
          "text": [
            "   cod_pedido regiao_pais                       produto  valor  quantidade  \\\n",
            "0           1       Norte  Biscoito  True Champion 300g   22.0           2   \n",
            "1           2       Norte  Biscoito  True Champion 300g   21.0           2   \n",
            "2           3       Norte  Biscoito  True Champion 300g   22.0           2   \n",
            "3           4       Norte  Biscoito  True Champion 300g   19.0           4   \n",
            "4           5       Norte  Biscoito  True Champion 300g   22.0           2   \n",
            "\n",
            "   valor_total_bruto       data     estado       formapagto  \\\n",
            "0               44.0 2019-06-13       Acre         Dinheiro   \n",
            "1               42.0 2019-03-01      Amapá              Pix   \n",
            "2               44.0 2019-01-18       Pará  Boleto Bancário   \n",
            "3               76.0 2019-08-19   Rondônia  Boleto Bancário   \n",
            "4               44.0 2019-10-18  Tocantins   Cartão Crédito   \n",
            "\n",
            "  centro_distribuicao responsavelpedido  valor_comissao  lucro_liquido  \\\n",
            "0          Rapid Pink            Carlos            0.44           17.6   \n",
            "1          Rapid Pink       Maria Linda            0.42           16.8   \n",
            "2          Rapid Pink             Julia            0.88           35.2   \n",
            "3          Rapid Pink              Yuri            0.76           30.4   \n",
            "4          Rapid Pink           Dolores            0.44           17.6   \n",
            "\n",
            "  categoriaprod       ano_mes  \n",
            "0   Alimentação     2019-June  \n",
            "1   Alimentação    2019-March  \n",
            "2   Alimentação  2019-January  \n",
            "3   Alimentação   2019-August  \n",
            "4   Alimentação  2019-October  \n"
          ]
        }
      ]
    },
    {
      "cell_type": "code",
      "source": [
        "# Cria dataframe com as duas colunas de ano_mes e quantidade para exibir em gráfico\n",
        "group_quantidade = biscoito_tchampion.groupby('ano_mes').agg({'quantidade': 'sum'})\n",
        "group_quantidade = group_quantidade.reset_index()\n",
        "print(group_quantidade)"
      ],
      "metadata": {
        "colab": {
          "base_uri": "https://localhost:8080/",
          "height": 0
        },
        "id": "BSMuY_rD9j88",
        "outputId": "df4206f2-a49d-4932-89e2-4f591210849b"
      },
      "execution_count": 37,
      "outputs": [
        {
          "output_type": "stream",
          "name": "stdout",
          "text": [
            "           ano_mes  quantidade\n",
            "0       2019-April         679\n",
            "1      2019-August         899\n",
            "2    2019-December        1258\n",
            "3    2019-February         469\n",
            "4     2019-January         597\n",
            "5        2019-July         607\n",
            "6        2019-June        1085\n",
            "7       2019-March        1194\n",
            "8         2019-May        1108\n",
            "9    2019-November         672\n",
            "10    2019-October         806\n",
            "11  2019-September        1203\n",
            "12      2020-April         750\n",
            "13     2020-August         539\n",
            "14   2020-December        1773\n",
            "15   2020-February        1965\n",
            "16    2020-January         555\n",
            "17       2020-July         571\n",
            "18       2020-June         511\n",
            "19      2020-March         794\n",
            "20        2020-May         519\n",
            "21   2020-November         494\n",
            "22    2020-October         494\n",
            "23  2020-September         493\n",
            "24      2021-April        1155\n",
            "25     2021-August         530\n",
            "26   2021-December        2098\n",
            "27   2021-February        1490\n",
            "28    2021-January         984\n",
            "29       2021-July         504\n",
            "30       2021-June         530\n",
            "31      2021-March         761\n",
            "32        2021-May         555\n",
            "33   2021-November        1094\n",
            "34    2021-October         693\n",
            "35  2021-September         552\n",
            "36      2022-April         424\n",
            "37     2022-August         457\n",
            "38   2022-December         468\n",
            "39   2022-February         445\n",
            "40    2022-January         369\n",
            "41       2022-July         408\n",
            "42       2022-June         416\n",
            "43      2022-March         449\n",
            "44        2022-May         447\n",
            "45   2022-November         436\n",
            "46    2022-October         433\n",
            "47  2022-September         444\n",
            "48      2023-April         383\n",
            "49   2023-February        2146\n",
            "50    2023-January        2406\n",
            "51      2023-March        2413\n"
          ]
        }
      ]
    },
    {
      "cell_type": "code",
      "source": [
        "# Cria gráfico de série temporal para coluna quantidade por ano e mês\n",
        "group_quantidade.plot(x='ano_mes', y='quantidade', title='Série Temporal', xlabel='Ano e Mês', ylabel='Quantidade', color='red')\n",
        "plt.show()"
      ],
      "metadata": {
        "colab": {
          "base_uri": "https://localhost:8080/",
          "height": 472
        },
        "id": "RGByEH6I6Jcv",
        "outputId": "44615ed0-5804-401f-f487-8ec2e3419caa"
      },
      "execution_count": 38,
      "outputs": [
        {
          "output_type": "display_data",
          "data": {
            "text/plain": [
              "<Figure size 640x480 with 1 Axes>"
            ],
            "image/png": "[encoded data removed]"
          },
          "metadata": {}
        }
      ]
    },
    {
      "cell_type": "markdown",
      "source": [
        "b)    Aplicar o teste de estacionariedade. Existe a necessidade de transformação? Qual?\n",
        "\n",
        "R: Aplicando o teste de Dickey Fuller, usada para teste de estacionariedade, podemos rejeitar a hipótese nula e concluir que a série é estacionária.\n",
        "\n",
        "Além de toda limpeza nos dados que realizamos podemos fazer a diferenciação, ou seja, a substração do valor anterior de cada ponto e aplicarmos o teste novamente."
      ],
      "metadata": {
        "id": "Bp29hkIpiHNu"
      }
    },
    {
      "cell_type": "code",
      "source": [
        "# Aplicando o teste de Dickey-Fuller\n",
        "teste = adfuller(group_quantidade['quantidade'])\n",
        "\n",
        "# Imprimindo o resultado do teste\n",
        "print('Estatística ADF: %f' % teste[0])\n",
        "print('Valor-p: %f' % teste[1])\n",
        "print('Valores críticos:')\n",
        "for key, value in teste[4].items():\n",
        "    print('\\t%s: %.3f' % (key, value))"
      ],
      "metadata": {
        "colab": {
          "base_uri": "https://localhost:8080/",
          "height": 0
        },
        "id": "_mjaHluY9ibA",
        "outputId": "1bbf270a-b1c1-46a3-9258-d6045bd5f0b1"
      },
      "execution_count": 39,
      "outputs": [
        {
          "output_type": "stream",
          "name": "stdout",
          "text": [
            "Estatística ADF: -3.164772\n",
            "Valor-p: 0.022117\n",
            "Valores críticos:\n",
            "\t1%: -3.566\n",
            "\t5%: -2.920\n",
            "\t10%: -2.598\n"
          ]
        }
      ]
    },
    {
      "cell_type": "markdown",
      "source": [
        "c)    Aplicar o teste de estacionariedade da série transformada?\n",
        "\n",
        "R: Aplicando o teste de estacionariedade na série transformada, ainda se mantém a estacionariedade conforme resultado do teste de Dickey Fuller."
      ],
      "metadata": {
        "id": "8u0jMFh9jq2i"
      }
    },
    {
      "cell_type": "code",
      "source": [
        "# Aplicando o teste de Dickey-Fuller com diferenciação\n",
        "teste_trans = adfuller(group_quantidade['quantidade'].diff().dropna())\n",
        "\n",
        "# Imprimindo o resultado do teste\n",
        "print('Estatística ADF: %f' % teste_trans[0])\n",
        "print('Valor-p: %f' % teste_trans[1])\n",
        "print('Valores críticos:')\n",
        "for key, value in teste_trans[4].items():\n",
        "    print('\\t%s: %.3f' % (key, value))"
      ],
      "metadata": {
        "colab": {
          "base_uri": "https://localhost:8080/",
          "height": 0
        },
        "id": "zwEZLX1lC-yp",
        "outputId": "3b09d956-9e0a-403c-ec58-50ce6c27f37f"
      },
      "execution_count": 40,
      "outputs": [
        {
          "output_type": "stream",
          "name": "stdout",
          "text": [
            "Estatística ADF: -8.413167\n",
            "Valor-p: 0.000000\n",
            "Valores críticos:\n",
            "\t1%: -3.568\n",
            "\t5%: -2.921\n",
            "\t10%: -2.599\n"
          ]
        }
      ]
    },
    {
      "cell_type": "markdown",
      "source": [
        "d)    Criar o gráfico da série transformada\n",
        "\n",
        "R: Criamos a nova coluna com a diferenciação e exibimos o gráfico de série com a coluna transformada."
      ],
      "metadata": {
        "id": "1IOcBHm5kBzO"
      }
    },
    {
      "cell_type": "code",
      "source": [
        "# Cria coluna de diferenciação e exibe gráfico\n",
        "group_quantidade['dif'] = group_quantidade['quantidade'].diff()\n",
        "group_quantidade.plot(x='ano_mes', y='dif', title='Série Temporal', xlabel='Ano e Mês', ylabel='Quantidade', color='red')\n",
        "plt.show()"
      ],
      "metadata": {
        "colab": {
          "base_uri": "https://localhost:8080/",
          "height": 472
        },
        "id": "n50W3gVAJrIa",
        "outputId": "a98e7e6c-398a-4318-9033-172b91f07793"
      },
      "execution_count": 105,
      "outputs": [
        {
          "output_type": "display_data",
          "data": {
            "text/plain": [
              "<Figure size 640x480 with 1 Axes>"
            ],
            "image/png": "[encoded data removed]"
          },
          "metadata": {}
        }
      ]
    },
    {
      "cell_type": "markdown",
      "source": [
        "5)    Após aplicar a limpeza e tratamento nos dados, calcule a média e mediana por categoria de produto e o ranking dos produtos mais vendidos?\n",
        "\n",
        "R: Abaixo os resultados."
      ],
      "metadata": {
        "id": "IE527oVEkRGl"
      }
    },
    {
      "cell_type": "code",
      "source": [
        "# Cálculo da média por categoria de produto\n",
        "group_catprod_mean = vendas_total.groupby('categoriaprod')['quantidade'].mean()\n",
        "print(group_catprod_mean)"
      ],
      "metadata": {
        "colab": {
          "base_uri": "https://localhost:8080/",
          "height": 0
        },
        "id": "vN2ATNVDMCjF",
        "outputId": "c4a4cb8c-81ff-4e85-8a7a-5fcf1bcca87c"
      },
      "execution_count": 41,
      "outputs": [
        {
          "output_type": "stream",
          "name": "stdout",
          "text": [
            "categoriaprod\n",
            "Acessório                  3.429441\n",
            "Alimentação                3.913734\n",
            "Bebedouros e Comedouros     3.20051\n",
            "Brinquedo                  3.579181\n",
            "Higiene e Limpeza          3.474443\n",
            "Medicamento                3.766623\n",
            "Petisco                    3.776301\n",
            "Name: quantidade, dtype: Float64\n"
          ]
        }
      ]
    },
    {
      "cell_type": "code",
      "source": [
        "# Cálculo da mediana por categoria de produto\n",
        "group_catprod_median = vendas_total.groupby('categoriaprod')['quantidade'].median()\n",
        "print(group_catprod_median)"
      ],
      "metadata": {
        "colab": {
          "base_uri": "https://localhost:8080/",
          "height": 0
        },
        "id": "a8bzG5aGMgU2",
        "outputId": "a69761d1-03cc-473f-b280-8402c65520b0"
      },
      "execution_count": 42,
      "outputs": [
        {
          "output_type": "stream",
          "name": "stdout",
          "text": [
            "categoriaprod\n",
            "Acessório                  1.0\n",
            "Alimentação                2.0\n",
            "Bebedouros e Comedouros    1.0\n",
            "Brinquedo                  2.0\n",
            "Higiene e Limpeza          1.0\n",
            "Medicamento                2.0\n",
            "Petisco                    2.0\n",
            "Name: quantidade, dtype: Float64\n"
          ]
        }
      ]
    },
    {
      "cell_type": "code",
      "source": [
        "# Ranking do produto mais vendido, ordenado pelo mais vendido\n",
        "group_prod_ranking = vendas_total.groupby('produto')['quantidade'].sum()\n",
        "group_prod_ranking = group_prod_ranking.reset_index()\n",
        "group_prod_ranking['ranking'] = group_prod_ranking['quantidade'].rank(ascending=False)\n",
        "group_prod_ranking = group_prod_ranking.sort_values('ranking')\n",
        "print(group_prod_ranking)"
      ],
      "metadata": {
        "colab": {
          "base_uri": "https://localhost:8080/",
          "height": 0
        },
        "id": "hFcW_vjfMg7n",
        "outputId": "647f869f-3ecf-451d-bd15-beaf1b1218e4"
      },
      "execution_count": 112,
      "outputs": [
        {
          "output_type": "stream",
          "name": "stdout",
          "text": [
            "                                              produto  quantidade  ranking\n",
            "3                        Biscoito  True Champion 300g       43525      1.0\n",
            "20  Shampoo vegano para cachorro e gato de camomil...       41207      2.0\n",
            "17  Ração Úmida Royal Canin Lata Veterinary Cães A...       40617      3.0\n",
            "5                             Bola Pet Vinil Big Blue       40489      4.0\n",
            "21  Suplemento Alimentar Glutamina Mundo Animal Nu...       40480      5.0\n",
            "16      Ração Royal Canin Exigent Gatos Adultos 1,5Kg       40076      6.0\n",
            "14  Pote Petisco Para Cachorro Bifinho Sabor Carne...       39821      7.0\n",
            "23  Whiskas Petisco Temptations Anti Bola de Pelo 40g       39553      8.0\n",
            "1                Bandana Disney Mickey Fábrica Petti        39098      9.0\n",
            "15  Ração Royal Canin Club Performance para Cães A...       39016     10.0\n",
            "0   Antipulgas e Carrapatos MSD Bravecto para Pet ...       38711     11.0\n",
            "10  Meias esportivas para cães para ambientes inte...       38613     12.0\n",
            "4   Biscoito Pedigree Biscrok Multi para Cães Adul...       38541     13.0\n",
            "22                      Vitamina E Granulado BigForce       38354     14.0\n",
            "13                                       Penas Gatito       36077     15.0\n",
            "6        Cama Coração Coroa Pet Nest Almofada Lavável       35722     16.0\n",
            "11                             Mordedor de Corda Bola       35491     17.0\n",
            "18                          Roupa para Cão Billaboard       34513     18.0\n",
            "19                              Roupa para Gato Petti       34193     19.0\n",
            "9         Kit Banho e Tosa com Escova PetShop Cãopeon       34177     20.0\n",
            "12  Nutri Alimentador Inteligente Automático Câmer...       34039     21.0\n",
            "8   Escova Pet Rasqueadeira Tira Pelos Cachorro e ...       33036     22.0\n",
            "2   Bebedouro e Comedouro Automático para Cães e G...       32522     23.0\n",
            "7                          Cama média almofadada Pity       32496     24.0\n"
          ]
        }
      ]
    },
    {
      "cell_type": "markdown",
      "source": [],
      "metadata": {
        "id": "OclY4tc0ltMt"
      }
    }
  ]
}